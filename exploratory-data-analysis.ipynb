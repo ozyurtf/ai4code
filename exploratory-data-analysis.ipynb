{
 "cells": [
  {
   "cell_type": "markdown",
   "id": "6ae4226a",
   "metadata": {},
   "source": [
    "### Installing Libraries"
   ]
  },
  {
   "cell_type": "code",
   "execution_count": 1,
   "id": "8b9e09a9",
   "metadata": {},
   "outputs": [
    {
     "name": "stdout",
     "output_type": "stream",
     "text": [
      "Requirement already satisfied: googletrans==4.0.0rc1 in /opt/anaconda3/lib/python3.9/site-packages (4.0.0rc1)\n",
      "Requirement already satisfied: httpx==0.13.3 in /opt/anaconda3/lib/python3.9/site-packages (from googletrans==4.0.0rc1) (0.13.3)\n",
      "Requirement already satisfied: idna==2.* in /opt/anaconda3/lib/python3.9/site-packages (from httpx==0.13.3->googletrans==4.0.0rc1) (2.10)\n",
      "Requirement already satisfied: certifi in /opt/anaconda3/lib/python3.9/site-packages (from httpx==0.13.3->googletrans==4.0.0rc1) (2021.10.8)\n",
      "Requirement already satisfied: sniffio in /opt/anaconda3/lib/python3.9/site-packages (from httpx==0.13.3->googletrans==4.0.0rc1) (1.2.0)\n",
      "Requirement already satisfied: chardet==3.* in /opt/anaconda3/lib/python3.9/site-packages (from httpx==0.13.3->googletrans==4.0.0rc1) (3.0.4)\n",
      "Requirement already satisfied: httpcore==0.9.* in /opt/anaconda3/lib/python3.9/site-packages (from httpx==0.13.3->googletrans==4.0.0rc1) (0.9.1)\n",
      "Requirement already satisfied: hstspreload in /opt/anaconda3/lib/python3.9/site-packages (from httpx==0.13.3->googletrans==4.0.0rc1) (2022.11.1)\n",
      "Requirement already satisfied: rfc3986<2,>=1.3 in /opt/anaconda3/lib/python3.9/site-packages (from httpx==0.13.3->googletrans==4.0.0rc1) (1.5.0)\n",
      "Requirement already satisfied: h11<0.10,>=0.8 in /opt/anaconda3/lib/python3.9/site-packages (from httpcore==0.9.*->httpx==0.13.3->googletrans==4.0.0rc1) (0.9.0)\n",
      "Requirement already satisfied: h2==3.* in /opt/anaconda3/lib/python3.9/site-packages (from httpcore==0.9.*->httpx==0.13.3->googletrans==4.0.0rc1) (3.2.0)\n",
      "Requirement already satisfied: hyperframe<6,>=5.2.0 in /opt/anaconda3/lib/python3.9/site-packages (from h2==3.*->httpcore==0.9.*->httpx==0.13.3->googletrans==4.0.0rc1) (5.2.0)\n",
      "Requirement already satisfied: hpack<4,>=3.0 in /opt/anaconda3/lib/python3.9/site-packages (from h2==3.*->httpcore==0.9.*->httpx==0.13.3->googletrans==4.0.0rc1) (3.0.0)\n",
      "Note: you may need to restart the kernel to use updated packages.\n"
     ]
    }
   ],
   "source": [
    "pip install googletrans==4.0.0rc1"
   ]
  },
  {
   "cell_type": "markdown",
   "id": "a56e6329",
   "metadata": {},
   "source": [
    "### Importing Libraries"
   ]
  },
  {
   "cell_type": "code",
   "execution_count": 2,
   "id": "f9728d86",
   "metadata": {},
   "outputs": [
    {
     "name": "stderr",
     "output_type": "stream",
     "text": [
      "Using state Massachusetts server backend.\n"
     ]
    }
   ],
   "source": [
    "import pandas as pd\n",
    "from collections import Counter\n",
    "import ast\n",
    "import kaleido\n",
    "import plotly.express as px\n",
    "import plotly.graph_objects as go\n",
    "import numpy as np\n",
    "import re\n",
    "from io import StringIO\n",
    "from html.parser import HTMLParser\n",
    "import concurrent.futures\n",
    "from utils import translate\n",
    "from multiprocessing import Pool"
   ]
  },
  {
   "cell_type": "markdown",
   "id": "adbbf383",
   "metadata": {},
   "source": [
    "### Importing Data"
   ]
  },
  {
   "cell_type": "code",
   "execution_count": 11,
   "id": "46590740",
   "metadata": {},
   "outputs": [],
   "source": [
    "train_final = pd.read_csv('train_final.csv')\n",
    "train_final['cell_types_shuffled'] = train_final['cell_types_shuffled'].apply(ast.literal_eval)\n",
    "train_final['code_markdowns_shuffled'] = train_final['code_markdowns_shuffled'].apply(ast.literal_eval)\n",
    "\n",
    "test_final = pd.read_csv('test_final.csv')\n",
    "test_final['cell_types_shuffled'] = test_final['cell_types_shuffled'].apply(ast.literal_eval)\n",
    "test_final['code_markdowns_shuffled'] = test_final['code_markdowns_shuffled'].apply(ast.literal_eval)"
   ]
  },
  {
   "cell_type": "code",
   "execution_count": 106,
   "id": "433240b3",
   "metadata": {},
   "outputs": [],
   "source": [
    "train_final_sample = train_final.sample(1000).reset_index(drop=True)"
   ]
  },
  {
   "cell_type": "code",
   "execution_count": 112,
   "id": "8b56e16a",
   "metadata": {},
   "outputs": [],
   "source": [
    "train_final_exploded = train_final.explode(['cell_types_shuffled',\n",
    "                                                   'code_markdowns_shuffled']).reset_index(drop=True)\n",
    "\n",
    "train_final_exploded['code_markdowns_shuffled_translated'] = train_final_exploded['code_markdowns_shuffled'].copy()\n",
    "\n",
    "nonenglish_markdowns = list(train_final_exploded.query('cell_types_shuffled == \"markdown\" & markdown_language != \"en\"')['code_markdowns_shuffled'])"
   ]
  },
  {
   "cell_type": "code",
   "execution_count": 120,
   "id": "eed499d3",
   "metadata": {},
   "outputs": [
    {
     "data": {
      "text/html": [
       "<div>\n",
       "<style scoped>\n",
       "    .dataframe tbody tr th:only-of-type {\n",
       "        vertical-align: middle;\n",
       "    }\n",
       "\n",
       "    .dataframe tbody tr th {\n",
       "        vertical-align: top;\n",
       "    }\n",
       "\n",
       "    .dataframe thead th {\n",
       "        text-align: right;\n",
       "    }\n",
       "</style>\n",
       "<table border=\"1\" class=\"dataframe\">\n",
       "  <thead>\n",
       "    <tr style=\"text-align: right;\">\n",
       "      <th></th>\n",
       "      <th>id</th>\n",
       "      <th>cell_types_shuffled</th>\n",
       "      <th>code_markdowns_shuffled</th>\n",
       "      <th>cell_shuffled</th>\n",
       "      <th>cell_order</th>\n",
       "      <th>markdown_language</th>\n",
       "      <th>ancestor_id</th>\n",
       "      <th>parent_id</th>\n",
       "      <th>code_markdowns_shuffled_translated</th>\n",
       "    </tr>\n",
       "  </thead>\n",
       "  <tbody>\n",
       "    <tr>\n",
       "      <th>0</th>\n",
       "      <td>00001756c60be8</td>\n",
       "      <td>code</td>\n",
       "      <td># This Python 3 environment comes with many he...</td>\n",
       "      <td>1862f0a6 2a9e43d6 038b763d 2eefe0ef 0beab1cd 9...</td>\n",
       "      <td>1862f0a6 448eb224 2a9e43d6 7e2f170a 038b763d 7...</td>\n",
       "      <td>ru</td>\n",
       "      <td>945aea18</td>\n",
       "      <td>NaN</td>\n",
       "      <td># This Python 3 environment comes with many he...</td>\n",
       "    </tr>\n",
       "    <tr>\n",
       "      <th>1</th>\n",
       "      <td>00001756c60be8</td>\n",
       "      <td>code</td>\n",
       "      <td>import numpy as np\\nimport pandas as pd\\nimpor...</td>\n",
       "      <td>1862f0a6 2a9e43d6 038b763d 2eefe0ef 0beab1cd 9...</td>\n",
       "      <td>1862f0a6 448eb224 2a9e43d6 7e2f170a 038b763d 7...</td>\n",
       "      <td>ru</td>\n",
       "      <td>945aea18</td>\n",
       "      <td>NaN</td>\n",
       "      <td>import numpy as np\\nimport pandas as pd\\nimpor...</td>\n",
       "    </tr>\n",
       "    <tr>\n",
       "      <th>2</th>\n",
       "      <td>00001756c60be8</td>\n",
       "      <td>code</td>\n",
       "      <td>import warnings\\nwarnings.filterwarnings('igno...</td>\n",
       "      <td>1862f0a6 2a9e43d6 038b763d 2eefe0ef 0beab1cd 9...</td>\n",
       "      <td>1862f0a6 448eb224 2a9e43d6 7e2f170a 038b763d 7...</td>\n",
       "      <td>ru</td>\n",
       "      <td>945aea18</td>\n",
       "      <td>NaN</td>\n",
       "      <td>import warnings\\nwarnings.filterwarnings('igno...</td>\n",
       "    </tr>\n",
       "    <tr>\n",
       "      <th>3</th>\n",
       "      <td>00001756c60be8</td>\n",
       "      <td>code</td>\n",
       "      <td>matplotlib.rcParams.update({'font.size': 14})</td>\n",
       "      <td>1862f0a6 2a9e43d6 038b763d 2eefe0ef 0beab1cd 9...</td>\n",
       "      <td>1862f0a6 448eb224 2a9e43d6 7e2f170a 038b763d 7...</td>\n",
       "      <td>ru</td>\n",
       "      <td>945aea18</td>\n",
       "      <td>NaN</td>\n",
       "      <td>matplotlib.rcParams.update({'font.size': 14})</td>\n",
       "    </tr>\n",
       "    <tr>\n",
       "      <th>4</th>\n",
       "      <td>00001756c60be8</td>\n",
       "      <td>code</td>\n",
       "      <td>def evaluate_preds(train_true_values, train_pr...</td>\n",
       "      <td>1862f0a6 2a9e43d6 038b763d 2eefe0ef 0beab1cd 9...</td>\n",
       "      <td>1862f0a6 448eb224 2a9e43d6 7e2f170a 038b763d 7...</td>\n",
       "      <td>ru</td>\n",
       "      <td>945aea18</td>\n",
       "      <td>NaN</td>\n",
       "      <td>def evaluate_preds(train_true_values, train_pr...</td>\n",
       "    </tr>\n",
       "    <tr>\n",
       "      <th>...</th>\n",
       "      <td>...</td>\n",
       "      <td>...</td>\n",
       "      <td>...</td>\n",
       "      <td>...</td>\n",
       "      <td>...</td>\n",
       "      <td>...</td>\n",
       "      <td>...</td>\n",
       "      <td>...</td>\n",
       "      <td>...</td>\n",
       "    </tr>\n",
       "    <tr>\n",
       "      <th>6370507</th>\n",
       "      <td>fffc3b44869198</td>\n",
       "      <td>code</td>\n",
       "      <td>test['bookID']</td>\n",
       "      <td>978a5137 faa48f03 28dfb12a eea2e812 64fef97c 4...</td>\n",
       "      <td>978a5137 faa48f03 28dfb12a eea2e812 64fef97c 4...</td>\n",
       "      <td>et</td>\n",
       "      <td>a6aaa8d7</td>\n",
       "      <td>NaN</td>\n",
       "      <td>test['bookID']</td>\n",
       "    </tr>\n",
       "    <tr>\n",
       "      <th>6370508</th>\n",
       "      <td>fffc3b44869198</td>\n",
       "      <td>code</td>\n",
       "      <td>df = pd.DataFrame(np.nan, index=[0,1,2,3], col...</td>\n",
       "      <td>978a5137 faa48f03 28dfb12a eea2e812 64fef97c 4...</td>\n",
       "      <td>978a5137 faa48f03 28dfb12a eea2e812 64fef97c 4...</td>\n",
       "      <td>et</td>\n",
       "      <td>a6aaa8d7</td>\n",
       "      <td>NaN</td>\n",
       "      <td>df = pd.DataFrame(np.nan, index=[0,1,2,3], col...</td>\n",
       "    </tr>\n",
       "    <tr>\n",
       "      <th>6370509</th>\n",
       "      <td>fffc3b44869198</td>\n",
       "      <td>code</td>\n",
       "      <td>df</td>\n",
       "      <td>978a5137 faa48f03 28dfb12a eea2e812 64fef97c 4...</td>\n",
       "      <td>978a5137 faa48f03 28dfb12a eea2e812 64fef97c 4...</td>\n",
       "      <td>et</td>\n",
       "      <td>a6aaa8d7</td>\n",
       "      <td>NaN</td>\n",
       "      <td>df</td>\n",
       "    </tr>\n",
       "    <tr>\n",
       "      <th>6370510</th>\n",
       "      <td>fffc3b44869198</td>\n",
       "      <td>code</td>\n",
       "      <td>df.to_csv('file_name.csv', index=False)</td>\n",
       "      <td>978a5137 faa48f03 28dfb12a eea2e812 64fef97c 4...</td>\n",
       "      <td>978a5137 faa48f03 28dfb12a eea2e812 64fef97c 4...</td>\n",
       "      <td>et</td>\n",
       "      <td>a6aaa8d7</td>\n",
       "      <td>NaN</td>\n",
       "      <td>df.to_csv('file_name.csv', index=False)</td>\n",
       "    </tr>\n",
       "    <tr>\n",
       "      <th>6370511</th>\n",
       "      <td>fffc3b44869198</td>\n",
       "      <td>markdown</td>\n",
       "      <td>Lets make test dataset looks like train dataset</td>\n",
       "      <td>978a5137 faa48f03 28dfb12a eea2e812 64fef97c 4...</td>\n",
       "      <td>978a5137 faa48f03 28dfb12a eea2e812 64fef97c 4...</td>\n",
       "      <td>et</td>\n",
       "      <td>a6aaa8d7</td>\n",
       "      <td>NaN</td>\n",
       "      <td>Lets make test dataset looks like train dataset</td>\n",
       "    </tr>\n",
       "  </tbody>\n",
       "</table>\n",
       "<p>548197 rows × 9 columns</p>\n",
       "</div>"
      ],
      "text/plain": [
       "                     id cell_types_shuffled  \\\n",
       "0        00001756c60be8                code   \n",
       "1        00001756c60be8                code   \n",
       "2        00001756c60be8                code   \n",
       "3        00001756c60be8                code   \n",
       "4        00001756c60be8                code   \n",
       "...                 ...                 ...   \n",
       "6370507  fffc3b44869198                code   \n",
       "6370508  fffc3b44869198                code   \n",
       "6370509  fffc3b44869198                code   \n",
       "6370510  fffc3b44869198                code   \n",
       "6370511  fffc3b44869198            markdown   \n",
       "\n",
       "                                   code_markdowns_shuffled  \\\n",
       "0        # This Python 3 environment comes with many he...   \n",
       "1        import numpy as np\\nimport pandas as pd\\nimpor...   \n",
       "2        import warnings\\nwarnings.filterwarnings('igno...   \n",
       "3            matplotlib.rcParams.update({'font.size': 14})   \n",
       "4        def evaluate_preds(train_true_values, train_pr...   \n",
       "...                                                    ...   \n",
       "6370507                                     test['bookID']   \n",
       "6370508  df = pd.DataFrame(np.nan, index=[0,1,2,3], col...   \n",
       "6370509                                                 df   \n",
       "6370510            df.to_csv('file_name.csv', index=False)   \n",
       "6370511    Lets make test dataset looks like train dataset   \n",
       "\n",
       "                                             cell_shuffled  \\\n",
       "0        1862f0a6 2a9e43d6 038b763d 2eefe0ef 0beab1cd 9...   \n",
       "1        1862f0a6 2a9e43d6 038b763d 2eefe0ef 0beab1cd 9...   \n",
       "2        1862f0a6 2a9e43d6 038b763d 2eefe0ef 0beab1cd 9...   \n",
       "3        1862f0a6 2a9e43d6 038b763d 2eefe0ef 0beab1cd 9...   \n",
       "4        1862f0a6 2a9e43d6 038b763d 2eefe0ef 0beab1cd 9...   \n",
       "...                                                    ...   \n",
       "6370507  978a5137 faa48f03 28dfb12a eea2e812 64fef97c 4...   \n",
       "6370508  978a5137 faa48f03 28dfb12a eea2e812 64fef97c 4...   \n",
       "6370509  978a5137 faa48f03 28dfb12a eea2e812 64fef97c 4...   \n",
       "6370510  978a5137 faa48f03 28dfb12a eea2e812 64fef97c 4...   \n",
       "6370511  978a5137 faa48f03 28dfb12a eea2e812 64fef97c 4...   \n",
       "\n",
       "                                                cell_order markdown_language  \\\n",
       "0        1862f0a6 448eb224 2a9e43d6 7e2f170a 038b763d 7...                ru   \n",
       "1        1862f0a6 448eb224 2a9e43d6 7e2f170a 038b763d 7...                ru   \n",
       "2        1862f0a6 448eb224 2a9e43d6 7e2f170a 038b763d 7...                ru   \n",
       "3        1862f0a6 448eb224 2a9e43d6 7e2f170a 038b763d 7...                ru   \n",
       "4        1862f0a6 448eb224 2a9e43d6 7e2f170a 038b763d 7...                ru   \n",
       "...                                                    ...               ...   \n",
       "6370507  978a5137 faa48f03 28dfb12a eea2e812 64fef97c 4...                et   \n",
       "6370508  978a5137 faa48f03 28dfb12a eea2e812 64fef97c 4...                et   \n",
       "6370509  978a5137 faa48f03 28dfb12a eea2e812 64fef97c 4...                et   \n",
       "6370510  978a5137 faa48f03 28dfb12a eea2e812 64fef97c 4...                et   \n",
       "6370511  978a5137 faa48f03 28dfb12a eea2e812 64fef97c 4...                et   \n",
       "\n",
       "        ancestor_id parent_id  \\\n",
       "0          945aea18       NaN   \n",
       "1          945aea18       NaN   \n",
       "2          945aea18       NaN   \n",
       "3          945aea18       NaN   \n",
       "4          945aea18       NaN   \n",
       "...             ...       ...   \n",
       "6370507    a6aaa8d7       NaN   \n",
       "6370508    a6aaa8d7       NaN   \n",
       "6370509    a6aaa8d7       NaN   \n",
       "6370510    a6aaa8d7       NaN   \n",
       "6370511    a6aaa8d7       NaN   \n",
       "\n",
       "                        code_markdowns_shuffled_translated  \n",
       "0        # This Python 3 environment comes with many he...  \n",
       "1        import numpy as np\\nimport pandas as pd\\nimpor...  \n",
       "2        import warnings\\nwarnings.filterwarnings('igno...  \n",
       "3            matplotlib.rcParams.update({'font.size': 14})  \n",
       "4        def evaluate_preds(train_true_values, train_pr...  \n",
       "...                                                    ...  \n",
       "6370507                                     test['bookID']  \n",
       "6370508  df = pd.DataFrame(np.nan, index=[0,1,2,3], col...  \n",
       "6370509                                                 df  \n",
       "6370510            df.to_csv('file_name.csv', index=False)  \n",
       "6370511    Lets make test dataset looks like train dataset  \n",
       "\n",
       "[548197 rows x 9 columns]"
      ]
     },
     "execution_count": 120,
     "metadata": {},
     "output_type": "execute_result"
    }
   ],
   "source": [
    "train_final_exploded.query('markdown_language != \"en\"')"
   ]
  },
  {
   "cell_type": "code",
   "execution_count": 111,
   "id": "93c803a4",
   "metadata": {},
   "outputs": [
    {
     "name": "stdout",
     "output_type": "stream",
     "text": [
      "Exploratory and data analysis:\n",
      " Form analysis:\n",
      " Identification of the Target: The Target is already identified. It is made up of two values ​​0 for non -presence and 1 for risk. The Target is almost balanced with 46 non -risk of heart stop and 54 risk of heart stop\n",
      " Number of lines and columns: We have 14 variables in our dataset and 303 patients diagnosed. The Target is the 14th variable\n",
      " Types of variables: Dataset is already treated for categorical variables (encoding of category variables). Category variables are all the same identifiable, these are variables: sex, CP, FBS, remaining, exang, slope, ca, thal. The other variables are discreet: AGE, Trestbps, Chol, Thalach and a continuous variable: Oldpeak\n",
      " Identification of missing values: no missing data\n",
      "\n",
      " Basic analysis:\n",
      " Target relationship and continuous quantitative variables: Oldpeak variable (st depression at the level of the electrocar\n",
      "CPU times: user 32 ms, sys: 3.25 ms, total: 35.3 ms\n",
      "Wall time: 660 ms\n"
     ]
    }
   ],
   "source": [
    "%%time\n",
    "\n",
    "print(translator.translate(sample_nonenglish_markdown[:1000], dest='en').text)"
   ]
  },
  {
   "cell_type": "code",
   "execution_count": 55,
   "id": "5946f138",
   "metadata": {},
   "outputs": [
    {
     "name": "stderr",
     "output_type": "stream",
     "text": [
      "Using state Massachusetts server backend.\n",
      "Using state Massachusetts server backend.\n",
      "Using state Massachusetts server backend.\n",
      "Using state Massachusetts server backend.\n",
      "Using state Massachusetts server backend.\n",
      "Using state Massachusetts server backend.\n",
      "Using state Massachusetts server backend.\n",
      "Using state Massachusetts server backend.\n"
     ]
    },
    {
     "name": "stdout",
     "output_type": "stream",
     "text": [
      "CPU times: user 59.4 ms, sys: 243 ms, total: 303 ms\n",
      "Wall time: 3min 35s\n"
     ]
    }
   ],
   "source": [
    "%%time\n",
    "if __name__ == '__main__':\n",
    "    with Pool(8) as p:\n",
    "        translated_markdowns = p.map(translate, nonenglish_markdowns)"
   ]
  },
  {
   "cell_type": "code",
   "execution_count": 60,
   "id": "15bb6158",
   "metadata": {},
   "outputs": [],
   "source": [
    "train_final_exploded.loc[train_final_exploded.query('cell_types_shuffled == \"markdown\" & markdown_language != \"en\"').index,\n",
    "                         'code_markdowns_shuffled_translated'] = translated_markdowns"
   ]
  },
  {
   "cell_type": "code",
   "execution_count": 63,
   "id": "34b450da",
   "metadata": {},
   "outputs": [
    {
     "data": {
      "text/html": [
       "<div>\n",
       "<style scoped>\n",
       "    .dataframe tbody tr th:only-of-type {\n",
       "        vertical-align: middle;\n",
       "    }\n",
       "\n",
       "    .dataframe tbody tr th {\n",
       "        vertical-align: top;\n",
       "    }\n",
       "\n",
       "    .dataframe thead th {\n",
       "        text-align: right;\n",
       "    }\n",
       "</style>\n",
       "<table border=\"1\" class=\"dataframe\">\n",
       "  <thead>\n",
       "    <tr style=\"text-align: right;\">\n",
       "      <th></th>\n",
       "      <th>id</th>\n",
       "      <th>cell_types_shuffled</th>\n",
       "      <th>code_markdowns_shuffled</th>\n",
       "      <th>cell_shuffled</th>\n",
       "      <th>cell_order</th>\n",
       "      <th>markdown_language</th>\n",
       "      <th>ancestor_id</th>\n",
       "      <th>parent_id</th>\n",
       "      <th>code_markdowns_shuffled_translated</th>\n",
       "    </tr>\n",
       "  </thead>\n",
       "  <tbody>\n",
       "    <tr>\n",
       "      <th>1718</th>\n",
       "      <td>30d7c3aba9dab5</td>\n",
       "      <td>markdown</td>\n",
       "      <td>Определяем константы\\n\\n\\n\\n Локус варианты в...</td>\n",
       "      <td>dff6ca6f 3fe8e7af 6e32d24f b013be74 ce20afa6 4...</td>\n",
       "      <td>dff6ca6f 3fe8e7af 6e32d24f b013be74 1b01e864 c...</td>\n",
       "      <td>ru</td>\n",
       "      <td>9b72661b</td>\n",
       "      <td>NaN</td>\n",
       "      <td>We determine the constants \\n\\n\\n\\n  Locus Opt...</td>\n",
       "    </tr>\n",
       "  </tbody>\n",
       "</table>\n",
       "</div>"
      ],
      "text/plain": [
       "                  id cell_types_shuffled  \\\n",
       "1718  30d7c3aba9dab5            markdown   \n",
       "\n",
       "                                code_markdowns_shuffled  \\\n",
       "1718   Определяем константы\\n\\n\\n\\n Локус варианты в...   \n",
       "\n",
       "                                          cell_shuffled  \\\n",
       "1718  dff6ca6f 3fe8e7af 6e32d24f b013be74 ce20afa6 4...   \n",
       "\n",
       "                                             cell_order markdown_language  \\\n",
       "1718  dff6ca6f 3fe8e7af 6e32d24f b013be74 1b01e864 c...                ru   \n",
       "\n",
       "     ancestor_id parent_id                 code_markdowns_shuffled_translated  \n",
       "1718    9b72661b       NaN  We determine the constants \\n\\n\\n\\n  Locus Opt...  "
      ]
     },
     "execution_count": 63,
     "metadata": {},
     "output_type": "execute_result"
    }
   ],
   "source": [
    "train_final_exploded.query('cell_types_shuffled == \"markdown\" & markdown_language != \"en\"').sample()"
   ]
  },
  {
   "cell_type": "markdown",
   "id": "e9ff56cd",
   "metadata": {},
   "source": [
    "### Exploratory Data Analysis"
   ]
  },
  {
   "cell_type": "code",
   "execution_count": null,
   "id": "aba4c6c7",
   "metadata": {
    "scrolled": false
   },
   "outputs": [],
   "source": [
    "top_n = 9\n",
    "\n",
    "language_counts = train_final['markdown_language'].value_counts()\n",
    "\n",
    "top_n_languages = language_counts[:top_n]\n",
    "other_languages = language_counts[top_n:]\n",
    "\n",
    "language_counts_grouped = pd.DataFrame(top_n_languages).reset_index()\n",
    "language_counts_grouped.columns = ['markdown_language', 'counts']\n",
    "language_counts_grouped['markdown_language'] = language_counts_grouped['markdown_language'].apply(lambda x: x.upper())\n",
    "language_counts_grouped.loc[top_n+1] = ['Others', sum(other_languages.values)]\n",
    "\n",
    "\n",
    "fig = px.pie(language_counts_grouped, \n",
    "             values='counts', \n",
    "             names='markdown_language',\n",
    "             width=800, \n",
    "             height=1000,\n",
    "             title='Markdown Language Ratios')\n",
    "\n",
    "fig.update_traces(textinfo='percent',\n",
    "                  marker=dict(line=dict(color='white', width=3)))\n",
    "\n",
    "fig.update_traces()\n",
    "\n",
    "fig.show('svg')"
   ]
  },
  {
   "cell_type": "code",
   "execution_count": null,
   "id": "69ce1bef",
   "metadata": {},
   "outputs": [],
   "source": [
    "## ADD WIDGETS TO SHOW NOTEBOOKS BEFORE AND AFTER TRANSLATION"
   ]
  },
  {
   "cell_type": "code",
   "execution_count": null,
   "id": "06fef644",
   "metadata": {},
   "outputs": [],
   "source": [
    "line_counts_codes_list = []\n",
    "line_counts_markdowns_list = []\n",
    "\n",
    "for r in range(train_final.shape[0]): \n",
    "    codes_line_list = ''.join(train_final['codes'][r]).split('\\n')\n",
    "    codes_line_list = [val for val in codes_line_list if val != '']\n",
    "    line_counts_codes = len(codes_line_list)\n",
    "    \n",
    "    markdowns_line_list = ''.join(train_final['markdowns_cleaned'][r]).split('\\n')\n",
    "    markdowns_line_list = [val for val in markdowns_line_list if val != '']\n",
    "    line_counts_markdowns = len(markdowns_line_list)\n",
    "    \n",
    "    line_counts_codes_list.append(line_counts_codes)\n",
    "    line_counts_markdowns_list.append(line_counts_markdowns)\n",
    "    \n",
    "line_counts_codes_list = np.array(line_counts_codes_list)    \n",
    "line_counts_markdowns_list = np.array(line_counts_markdowns_list)    "
   ]
  },
  {
   "cell_type": "code",
   "execution_count": null,
   "id": "c9e06824",
   "metadata": {},
   "outputs": [],
   "source": [
    "train_final['codes_line_counts'] = line_counts_codes_list\n",
    "train_final['markdowns_line_counts'] = line_counts_markdowns_list"
   ]
  },
  {
   "cell_type": "code",
   "execution_count": null,
   "id": "accbde69",
   "metadata": {
    "scrolled": false
   },
   "outputs": [],
   "source": [
    "fig = go.Figure()\n",
    "fig.add_trace(go.Box(y=line_counts_codes_list, \n",
    "                     name = 'Number of Lines (Codes)',\n",
    "                     marker_color = 'indianred'))\n",
    "\n",
    "fig.add_trace(go.Box(y=line_counts_markdowns_list,\n",
    "                     name = 'Number of Lines (Markdowns)',\n",
    "                     marker_color = 'lightseagreen'))\n",
    "\n",
    "fig.update_layout(template = 'plotly_white',\n",
    "                  width=1000,\n",
    "                  height=600,\n",
    "                  title=\"Distribution of the Number of Lines\")\n",
    "    \n",
    "\n",
    "fig.show('svg')"
   ]
  },
  {
   "cell_type": "code",
   "execution_count": null,
   "id": "e6d8309c",
   "metadata": {},
   "outputs": [],
   "source": [
    "n = 1\n",
    "n_line_markdown_ratio = np.mean(line_counts_markdowns_list<=n)\n",
    "n_line_markdown_ratio = np.round(n_line_markdown_ratio, 2)\n",
    "\n",
    "print(\"The ratio of notebooks that have lower than or equal to {} line(s) in their markdowns: {}\".format(n, n_line_markdown_ratio))"
   ]
  },
  {
   "cell_type": "code",
   "execution_count": null,
   "id": "1bff2723",
   "metadata": {},
   "outputs": [],
   "source": [
    "x = list(range(1,26))\n",
    "y = [np.mean(line_counts_markdowns_list<=n) for n in x]\n",
    "\n",
    "fig = go.Figure([go.Bar(x=x, y=y)])\n",
    "\n",
    "fig.update_traces(marker_color='rgb(158,202,225)', \n",
    "                  marker_line_color='white',\n",
    "                  marker_line_width=0.50, opacity=1)\n",
    "\n",
    "fig.update_layout(template='plotly_white',\n",
    "                  width=1000,\n",
    "                  height=600,\n",
    "                  title=\"Cumulative Bar Chart\",\n",
    "                  xaxis_title=\"Number of Lines\",\n",
    "                  yaxis_title=\"Ratio of Notebooks\")\n",
    "\n",
    "fig.update_xaxes(showline=True, \n",
    "                 showgrid=True, \n",
    "                 gridwidth=1.5, \n",
    "                 linewidth=2, \n",
    "                 nticks = max(x)+1)\n",
    "\n",
    "fig.update_yaxes(showline=True, \n",
    "                 showgrid=True, \n",
    "                 gridwidth=1.5, \n",
    "                 linewidth=2, \n",
    "                 nticks=11,\n",
    "                 range = [0,1])\n",
    "\n",
    "fig.show('svg')"
   ]
  },
  {
   "cell_type": "code",
   "execution_count": null,
   "id": "575aec9a",
   "metadata": {},
   "outputs": [],
   "source": [
    "line_counts_codes_sorted = pd.Series(line_counts_codes_list).sort_values(ascending=False)\n",
    "long_codes_indices = line_counts_codes_sorted[line_counts_codes_sorted>100].index.tolist()\n",
    "\n",
    "line_counts_markdowns_sorted = pd.Series(line_counts_markdowns_list).sort_values(ascending=False)\n",
    "long_markdowns_indices = line_counts_markdowns_sorted[line_counts_markdowns_sorted>100].index.tolist()"
   ]
  },
  {
   "cell_type": "code",
   "execution_count": null,
   "id": "4525c034",
   "metadata": {
    "scrolled": false
   },
   "outputs": [],
   "source": [
    "long_markdown = train_final['markdowns_cleaned'][long_markdowns_indices[398]][:3]\n",
    "long_markdown_joined = '\\n'.join(long_markdown)\n",
    "\n",
    "print(long_markdown_joined)"
   ]
  },
  {
   "cell_type": "code",
   "execution_count": null,
   "id": "05e533d2",
   "metadata": {},
   "outputs": [],
   "source": [
    "def translate(texts):\n",
    "    translated_texts = [ts.google(val) for val in texts]\n",
    "    return translated_texts"
   ]
  },
  {
   "cell_type": "code",
   "execution_count": null,
   "id": "e6968a26",
   "metadata": {},
   "outputs": [],
   "source": [
    "# nonenglish_index = train_final['language']!='en'"
   ]
  },
  {
   "cell_type": "code",
   "execution_count": null,
   "id": "2e5f8db7",
   "metadata": {},
   "outputs": [],
   "source": [
    "# train_final['markdowns_translated'] = None"
   ]
  },
  {
   "cell_type": "code",
   "execution_count": null,
   "id": "dd10c7a2",
   "metadata": {},
   "outputs": [],
   "source": [
    "# train_final.loc[~nonenglish_index, 'markdowns_translated'] = train_final['markdowns_cleaned'][~nonenglish_index].values"
   ]
  },
  {
   "cell_type": "code",
   "execution_count": null,
   "id": "574755c9",
   "metadata": {},
   "outputs": [],
   "source": [
    "# from tqdm import tqdm\n",
    "# tqdm.pandas()\n",
    "# train_final.loc[nonenglish_index, 'markdowns_translated'] = train_final['markdowns_cleaned'][nonenglish_index].progress_apply(translate).values"
   ]
  },
  {
   "cell_type": "code",
   "execution_count": null,
   "id": "570a27b3",
   "metadata": {
    "scrolled": false
   },
   "outputs": [],
   "source": [
    "for val in range(len(markdowns)):\n",
    "    print(markdowns[val])\n",
    "    print()\n",
    "    print('---------')\n",
    "    print()\n",
    "    print(translated_markdowns[val])\n",
    "    print()\n",
    "    print('#########')\n",
    "    print()"
   ]
  },
  {
   "cell_type": "code",
   "execution_count": null,
   "id": "e13cd5fe",
   "metadata": {},
   "outputs": [],
   "source": [
    "# ANCESTRY (?)"
   ]
  }
 ],
 "metadata": {
  "kernelspec": {
   "display_name": "Python 3 (ipykernel)",
   "language": "python",
   "name": "python3"
  },
  "language_info": {
   "codemirror_mode": {
    "name": "ipython",
    "version": 3
   },
   "file_extension": ".py",
   "mimetype": "text/x-python",
   "name": "python",
   "nbconvert_exporter": "python",
   "pygments_lexer": "ipython3",
   "version": "3.9.7"
  }
 },
 "nbformat": 4,
 "nbformat_minor": 5
}
