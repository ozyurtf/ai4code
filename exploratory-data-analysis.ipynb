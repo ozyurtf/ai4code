{
 "cells": [
  {
   "cell_type": "markdown",
   "id": "6ae4226a",
   "metadata": {},
   "source": [
    "### Installing Libraries"
   ]
  },
  {
   "cell_type": "code",
   "execution_count": 1,
   "id": "4ab772ba",
   "metadata": {},
   "outputs": [],
   "source": [
    "!pip install translators --upgrade --quiet"
   ]
  },
  {
   "cell_type": "markdown",
   "id": "a56e6329",
   "metadata": {},
   "source": [
    "### Importing Libraries"
   ]
  },
  {
   "cell_type": "code",
   "execution_count": 53,
   "id": "f9728d86",
   "metadata": {},
   "outputs": [],
   "source": [
    "import pandas as pd\n",
    "from collections import Counter\n",
    "import ast\n",
    "import kaleido\n",
    "import plotly.express as px\n",
    "import plotly.graph_objects as go\n",
    "import numpy as np\n",
    "import re\n",
    "from io import StringIO\n",
    "from html.parser import HTMLParser\n",
    "import concurrent.futures\n",
    "from utils import translate\n",
    "from multiprocessing import Pool"
   ]
  },
  {
   "cell_type": "markdown",
   "id": "adbbf383",
   "metadata": {},
   "source": [
    "### Importing Data"
   ]
  },
  {
   "cell_type": "code",
   "execution_count": 18,
   "id": "46590740",
   "metadata": {},
   "outputs": [],
   "source": [
    "train_final = pd.read_csv('train_final.csv')\n",
    "train_final['cell_types_shuffled'] = train_final['cell_types_shuffled'].apply(ast.literal_eval)\n",
    "train_final['code_markdowns_shuffled'] = train_final['code_markdowns_shuffled'].apply(ast.literal_eval)\n",
    "\n",
    "test_final = pd.read_csv('test_final.csv')\n",
    "test_final['cell_types_shuffled'] = test_final['cell_types_shuffled'].apply(ast.literal_eval)\n",
    "test_final['code_markdowns_shuffled'] = test_final['code_markdowns_shuffled'].apply(ast.literal_eval)"
   ]
  },
  {
   "cell_type": "code",
   "execution_count": 19,
   "id": "8b56e16a",
   "metadata": {},
   "outputs": [],
   "source": [
    "train_final_exploded = train_final.explode(['cell_types_shuffled',\n",
    "                                            'code_markdowns_shuffled']).reset_index(drop=True)"
   ]
  },
  {
   "cell_type": "code",
   "execution_count": 73,
   "id": "fcd93522",
   "metadata": {},
   "outputs": [
    {
     "data": {
      "text/html": [
       "<div>\n",
       "<style scoped>\n",
       "    .dataframe tbody tr th:only-of-type {\n",
       "        vertical-align: middle;\n",
       "    }\n",
       "\n",
       "    .dataframe tbody tr th {\n",
       "        vertical-align: top;\n",
       "    }\n",
       "\n",
       "    .dataframe thead th {\n",
       "        text-align: right;\n",
       "    }\n",
       "</style>\n",
       "<table border=\"1\" class=\"dataframe\">\n",
       "  <thead>\n",
       "    <tr style=\"text-align: right;\">\n",
       "      <th></th>\n",
       "      <th>id</th>\n",
       "      <th>cell_types_shuffled</th>\n",
       "      <th>code_markdowns_shuffled</th>\n",
       "      <th>cell_shuffled</th>\n",
       "      <th>cell_order</th>\n",
       "      <th>markdown_language</th>\n",
       "      <th>ancestor_id</th>\n",
       "      <th>parent_id</th>\n",
       "    </tr>\n",
       "  </thead>\n",
       "  <tbody>\n",
       "    <tr>\n",
       "      <th>0</th>\n",
       "      <td>00001756c60be8</td>\n",
       "      <td>code</td>\n",
       "      <td># This Python 3 environment comes with many he...</td>\n",
       "      <td>1862f0a6 2a9e43d6 038b763d 2eefe0ef 0beab1cd 9...</td>\n",
       "      <td>1862f0a6 448eb224 2a9e43d6 7e2f170a 038b763d 7...</td>\n",
       "      <td>ru</td>\n",
       "      <td>945aea18</td>\n",
       "      <td>NaN</td>\n",
       "    </tr>\n",
       "    <tr>\n",
       "      <th>1</th>\n",
       "      <td>00001756c60be8</td>\n",
       "      <td>code</td>\n",
       "      <td>import numpy as np\\nimport pandas as pd\\nimpor...</td>\n",
       "      <td>1862f0a6 2a9e43d6 038b763d 2eefe0ef 0beab1cd 9...</td>\n",
       "      <td>1862f0a6 448eb224 2a9e43d6 7e2f170a 038b763d 7...</td>\n",
       "      <td>ru</td>\n",
       "      <td>945aea18</td>\n",
       "      <td>NaN</td>\n",
       "    </tr>\n",
       "    <tr>\n",
       "      <th>2</th>\n",
       "      <td>00001756c60be8</td>\n",
       "      <td>code</td>\n",
       "      <td>import warnings\\nwarnings.filterwarnings('igno...</td>\n",
       "      <td>1862f0a6 2a9e43d6 038b763d 2eefe0ef 0beab1cd 9...</td>\n",
       "      <td>1862f0a6 448eb224 2a9e43d6 7e2f170a 038b763d 7...</td>\n",
       "      <td>ru</td>\n",
       "      <td>945aea18</td>\n",
       "      <td>NaN</td>\n",
       "    </tr>\n",
       "    <tr>\n",
       "      <th>3</th>\n",
       "      <td>00001756c60be8</td>\n",
       "      <td>code</td>\n",
       "      <td>matplotlib.rcParams.update({'font.size': 14})</td>\n",
       "      <td>1862f0a6 2a9e43d6 038b763d 2eefe0ef 0beab1cd 9...</td>\n",
       "      <td>1862f0a6 448eb224 2a9e43d6 7e2f170a 038b763d 7...</td>\n",
       "      <td>ru</td>\n",
       "      <td>945aea18</td>\n",
       "      <td>NaN</td>\n",
       "    </tr>\n",
       "    <tr>\n",
       "      <th>4</th>\n",
       "      <td>00001756c60be8</td>\n",
       "      <td>code</td>\n",
       "      <td>def evaluate_preds(train_true_values, train_pr...</td>\n",
       "      <td>1862f0a6 2a9e43d6 038b763d 2eefe0ef 0beab1cd 9...</td>\n",
       "      <td>1862f0a6 448eb224 2a9e43d6 7e2f170a 038b763d 7...</td>\n",
       "      <td>ru</td>\n",
       "      <td>945aea18</td>\n",
       "      <td>NaN</td>\n",
       "    </tr>\n",
       "    <tr>\n",
       "      <th>...</th>\n",
       "      <td>...</td>\n",
       "      <td>...</td>\n",
       "      <td>...</td>\n",
       "      <td>...</td>\n",
       "      <td>...</td>\n",
       "      <td>...</td>\n",
       "      <td>...</td>\n",
       "      <td>...</td>\n",
       "    </tr>\n",
       "    <tr>\n",
       "      <th>6370641</th>\n",
       "      <td>fffe1d764579d5</td>\n",
       "      <td>markdown</td>\n",
       "      <td>REMOVING THE OUTLIERS</td>\n",
       "      <td>9c3b96a5 1398a873 f71c538e 8b44a5e8 385dff7a b...</td>\n",
       "      <td>1a63248d 9c3b96a5 1398a873 4e2d4c2d f71c538e 8...</td>\n",
       "      <td>en</td>\n",
       "      <td>3c40bfa6</td>\n",
       "      <td>NaN</td>\n",
       "    </tr>\n",
       "    <tr>\n",
       "      <th>6370642</th>\n",
       "      <td>fffe1d764579d5</td>\n",
       "      <td>markdown</td>\n",
       "      <td>DIMENSIONALITY CURSE</td>\n",
       "      <td>9c3b96a5 1398a873 f71c538e 8b44a5e8 385dff7a b...</td>\n",
       "      <td>1a63248d 9c3b96a5 1398a873 4e2d4c2d f71c538e 8...</td>\n",
       "      <td>en</td>\n",
       "      <td>3c40bfa6</td>\n",
       "      <td>NaN</td>\n",
       "    </tr>\n",
       "    <tr>\n",
       "      <th>6370643</th>\n",
       "      <td>fffe1d764579d5</td>\n",
       "      <td>markdown</td>\n",
       "      <td>BANGALORE HOUSE PRICE PREDICTION</td>\n",
       "      <td>9c3b96a5 1398a873 f71c538e 8b44a5e8 385dff7a b...</td>\n",
       "      <td>1a63248d 9c3b96a5 1398a873 4e2d4c2d f71c538e 8...</td>\n",
       "      <td>en</td>\n",
       "      <td>3c40bfa6</td>\n",
       "      <td>NaN</td>\n",
       "    </tr>\n",
       "    <tr>\n",
       "      <th>6370644</th>\n",
       "      <td>fffe1d764579d5</td>\n",
       "      <td>markdown</td>\n",
       "      <td>We have achieved 75.2 accuracy in predicting ...</td>\n",
       "      <td>9c3b96a5 1398a873 f71c538e 8b44a5e8 385dff7a b...</td>\n",
       "      <td>1a63248d 9c3b96a5 1398a873 4e2d4c2d f71c538e 8...</td>\n",
       "      <td>en</td>\n",
       "      <td>3c40bfa6</td>\n",
       "      <td>NaN</td>\n",
       "    </tr>\n",
       "    <tr>\n",
       "      <th>6370645</th>\n",
       "      <td>fffe1d764579d5</td>\n",
       "      <td>markdown</td>\n",
       "      <td>DATA INGESTION</td>\n",
       "      <td>9c3b96a5 1398a873 f71c538e 8b44a5e8 385dff7a b...</td>\n",
       "      <td>1a63248d 9c3b96a5 1398a873 4e2d4c2d f71c538e 8...</td>\n",
       "      <td>en</td>\n",
       "      <td>3c40bfa6</td>\n",
       "      <td>NaN</td>\n",
       "    </tr>\n",
       "  </tbody>\n",
       "</table>\n",
       "<p>6370646 rows × 8 columns</p>\n",
       "</div>"
      ],
      "text/plain": [
       "                     id cell_types_shuffled  \\\n",
       "0        00001756c60be8                code   \n",
       "1        00001756c60be8                code   \n",
       "2        00001756c60be8                code   \n",
       "3        00001756c60be8                code   \n",
       "4        00001756c60be8                code   \n",
       "...                 ...                 ...   \n",
       "6370641  fffe1d764579d5            markdown   \n",
       "6370642  fffe1d764579d5            markdown   \n",
       "6370643  fffe1d764579d5            markdown   \n",
       "6370644  fffe1d764579d5            markdown   \n",
       "6370645  fffe1d764579d5            markdown   \n",
       "\n",
       "                                   code_markdowns_shuffled  \\\n",
       "0        # This Python 3 environment comes with many he...   \n",
       "1        import numpy as np\\nimport pandas as pd\\nimpor...   \n",
       "2        import warnings\\nwarnings.filterwarnings('igno...   \n",
       "3            matplotlib.rcParams.update({'font.size': 14})   \n",
       "4        def evaluate_preds(train_true_values, train_pr...   \n",
       "...                                                    ...   \n",
       "6370641                              REMOVING THE OUTLIERS   \n",
       "6370642                              DIMENSIONALITY CURSE    \n",
       "6370643                  BANGALORE HOUSE PRICE PREDICTION    \n",
       "6370644   We have achieved 75.2 accuracy in predicting ...   \n",
       "6370645                                    DATA INGESTION    \n",
       "\n",
       "                                             cell_shuffled  \\\n",
       "0        1862f0a6 2a9e43d6 038b763d 2eefe0ef 0beab1cd 9...   \n",
       "1        1862f0a6 2a9e43d6 038b763d 2eefe0ef 0beab1cd 9...   \n",
       "2        1862f0a6 2a9e43d6 038b763d 2eefe0ef 0beab1cd 9...   \n",
       "3        1862f0a6 2a9e43d6 038b763d 2eefe0ef 0beab1cd 9...   \n",
       "4        1862f0a6 2a9e43d6 038b763d 2eefe0ef 0beab1cd 9...   \n",
       "...                                                    ...   \n",
       "6370641  9c3b96a5 1398a873 f71c538e 8b44a5e8 385dff7a b...   \n",
       "6370642  9c3b96a5 1398a873 f71c538e 8b44a5e8 385dff7a b...   \n",
       "6370643  9c3b96a5 1398a873 f71c538e 8b44a5e8 385dff7a b...   \n",
       "6370644  9c3b96a5 1398a873 f71c538e 8b44a5e8 385dff7a b...   \n",
       "6370645  9c3b96a5 1398a873 f71c538e 8b44a5e8 385dff7a b...   \n",
       "\n",
       "                                                cell_order markdown_language  \\\n",
       "0        1862f0a6 448eb224 2a9e43d6 7e2f170a 038b763d 7...                ru   \n",
       "1        1862f0a6 448eb224 2a9e43d6 7e2f170a 038b763d 7...                ru   \n",
       "2        1862f0a6 448eb224 2a9e43d6 7e2f170a 038b763d 7...                ru   \n",
       "3        1862f0a6 448eb224 2a9e43d6 7e2f170a 038b763d 7...                ru   \n",
       "4        1862f0a6 448eb224 2a9e43d6 7e2f170a 038b763d 7...                ru   \n",
       "...                                                    ...               ...   \n",
       "6370641  1a63248d 9c3b96a5 1398a873 4e2d4c2d f71c538e 8...                en   \n",
       "6370642  1a63248d 9c3b96a5 1398a873 4e2d4c2d f71c538e 8...                en   \n",
       "6370643  1a63248d 9c3b96a5 1398a873 4e2d4c2d f71c538e 8...                en   \n",
       "6370644  1a63248d 9c3b96a5 1398a873 4e2d4c2d f71c538e 8...                en   \n",
       "6370645  1a63248d 9c3b96a5 1398a873 4e2d4c2d f71c538e 8...                en   \n",
       "\n",
       "        ancestor_id parent_id  \n",
       "0          945aea18       NaN  \n",
       "1          945aea18       NaN  \n",
       "2          945aea18       NaN  \n",
       "3          945aea18       NaN  \n",
       "4          945aea18       NaN  \n",
       "...             ...       ...  \n",
       "6370641    3c40bfa6       NaN  \n",
       "6370642    3c40bfa6       NaN  \n",
       "6370643    3c40bfa6       NaN  \n",
       "6370644    3c40bfa6       NaN  \n",
       "6370645    3c40bfa6       NaN  \n",
       "\n",
       "[6370646 rows x 8 columns]"
      ]
     },
     "execution_count": 73,
     "metadata": {},
     "output_type": "execute_result"
    }
   ],
   "source": [
    "train_final_exploded"
   ]
  },
  {
   "cell_type": "code",
   "execution_count": 37,
   "id": "30a9b133",
   "metadata": {},
   "outputs": [],
   "source": [
    "nonenglish_markdowns = list(train_final_exploded.query('cell_types_shuffled == \"markdown\" & markdown_language != \"en\"')['code_markdowns_shuffled'])"
   ]
  },
  {
   "cell_type": "code",
   "execution_count": 71,
   "id": "5946f138",
   "metadata": {},
   "outputs": [
    {
     "name": "stderr",
     "output_type": "stream",
     "text": [
      "Using state Massachusetts server backend.\n",
      "Using state Massachusetts server backend.\n",
      "Using state Massachusetts server backend.\n",
      "Using state Massachusetts server backend.\n",
      "Using state Massachusetts server backend.\n",
      "Using state Massachusetts server backend.\n",
      "Using state Massachusetts server backend.\n",
      "Using state Massachusetts server backend.\n",
      "Using state Massachusetts server backend.\n",
      "Using state Massachusetts server backend.\n"
     ]
    },
    {
     "name": "stdout",
     "output_type": "stream",
     "text": [
      "CPU times: user 59.2 ms, sys: 132 ms, total: 191 ms\n",
      "Wall time: 2min 8s\n"
     ]
    }
   ],
   "source": [
    "%%time\n",
    "if __name__ == '__main__':\n",
    "    with Pool(10) as p:\n",
    "        translated_markdowns = p.map(translate, nonenglish_markdowns[:1000])"
   ]
  },
  {
   "cell_type": "code",
   "execution_count": 72,
   "id": "34b450da",
   "metadata": {},
   "outputs": [
    {
     "data": {
      "text/plain": [
       "5.9341511111111105"
      ]
     },
     "execution_count": 72,
     "metadata": {},
     "output_type": "execute_result"
    }
   ],
   "source": [
    "(len(nonenglish_markdowns)/1000)*128/60/60"
   ]
  },
  {
   "cell_type": "markdown",
   "id": "e9ff56cd",
   "metadata": {},
   "source": [
    "### Exploratory Data Analysis"
   ]
  },
  {
   "cell_type": "code",
   "execution_count": 6,
   "id": "aba4c6c7",
   "metadata": {
    "scrolled": false
   },
   "outputs": [
    {
     "data": {
      "image/svg+xml": [
       "<svg class=\"main-svg\" xmlns=\"http://www.w3.org/2000/svg\" xmlns:xlink=\"http://www.w3.org/1999/xlink\" width=\"800\" height=\"1000\" style=\"\" viewBox=\"0 0 800 1000\"><rect x=\"0\" y=\"0\" width=\"800\" height=\"1000\" style=\"fill: rgb(255, 255, 255); fill-opacity: 1;\"/><defs id=\"defs-f2510e\"><g class=\"clips\"/><g class=\"gradients\"/><g class=\"patterns\"/></defs><g class=\"bglayer\"/><g class=\"layer-below\"><g class=\"imagelayer\"/><g class=\"shapelayer\"/></g><g class=\"cartesianlayer\"/><g class=\"polarlayer\"/><g class=\"smithlayer\"/><g class=\"ternarylayer\"/><g class=\"geolayer\"/><g class=\"funnelarealayer\"/><g class=\"pielayer\"><g class=\"trace\" stroke-linejoin=\"round\" style=\"opacity: 1;\"><g class=\"slice\"><path class=\"surface\" d=\"M385,527.5l0,-305a305,305 0 1 1 -162.35832072830902,46.804772138826024Z\" style=\"pointer-events: all; stroke-width: 3; fill: rgb(99, 110, 250); fill-opacity: 1; stroke: rgb(255, 255, 255); stroke-opacity: 1;\"/><g class=\"slicetext\"><text data-notex=\"1\" class=\"slicetext\" transform=\"translate(427.24253706624097,678.7826518636964)\" text-anchor=\"middle\" x=\"0\" y=\"0\" style=\"font-family: 'Open Sans', verdana, arial, sans-serif; font-size: 12px; fill: rgb(255, 255, 255); fill-opacity: 1; white-space: pre;\">91.1%</text></g></g><g class=\"slice\"><path class=\"surface\" d=\"M385,527.5l-57.702768859816906,-299.4918871453959a305,305 0 0 1 57.702768859816906,-5.508112854604121Z\" style=\"pointer-events: all; stroke-width: 3; fill: rgb(239, 85, 59); fill-opacity: 1; stroke: rgb(255, 255, 255); stroke-opacity: 1;\"/><g class=\"slicetext\"><text data-notex=\"1\" class=\"slicetext\" transform=\"translate(358.53253044864005,254.97785287073924)\" text-anchor=\"middle\" x=\"0\" y=\"0\" style=\"font-family: 'Open Sans', verdana, arial, sans-serif; font-size: 12px; fill: rgb(68, 68, 68); fill-opacity: 1; white-space: pre;\">3.03%</text></g></g><g class=\"slice\"><path class=\"surface\" d=\"M385,527.5l-80.08663043695881,-294.297692184723a305,305 0 0 1 22.383861577141907,-5.19419496067286Z\" style=\"pointer-events: all; stroke-width: 3; fill: rgb(0, 204, 150); fill-opacity: 1; stroke: rgb(255, 255, 255); stroke-opacity: 1;\"/><g class=\"slicetext\"><text data-notex=\"1\" class=\"slicetext\" transform=\"translate(316.453842272717,253.12075973959594)rotate(76.93568218587097)\" text-anchor=\"middle\" x=\"0\" y=\"0\" style=\"font-family: 'Open Sans', verdana, arial, sans-serif; font-size: 12px; fill: rgb(68, 68, 68); fill-opacity: 1; white-space: pre;\">1.2%</text></g></g><g class=\"slice\"><path class=\"surface\" d=\"M385,527.5l-95.43212264870868,-289.6855363437426a305,305 0 0 1 15.345492211749871,-4.612155840980392Z\" style=\"pointer-events: all; stroke-width: 3; fill: rgb(171, 99, 250); fill-opacity: 1; stroke: rgb(255, 255, 255); stroke-opacity: 1;\"/><g class=\"slicetext\"><text data-notex=\"1\" class=\"slicetext\" transform=\"translate(269.6790799552718,179.1585460941106)\" text-anchor=\"middle\" x=\"0\" y=\"0\" style=\"font-family: 'Open Sans', verdana, arial, sans-serif; font-size: 12px; fill: rgb(42, 63, 95); fill-opacity: 1; white-space: pre;\">0.836%</text></g><path class=\"textline\" stroke-width=\"1.5\" d=\"M297.2103299552718,235.4075936737866V174.4085460941106h-3.625\" fill=\"none\" style=\"stroke: rgb(42, 63, 95); stroke-opacity: 1;\"/></g><g class=\"slice\"><path class=\"surface\" d=\"M385,527.5l-110.02601694421911,-284.4631357406271a305,305 0 0 1 14.593894295510424,-5.222400603115545Z\" style=\"pointer-events: all; stroke-width: 3; fill: rgb(255, 161, 90); fill-opacity: 1; stroke: rgb(255, 255, 255); stroke-opacity: 1;\"/><g class=\"slicetext\"><text data-notex=\"1\" class=\"slicetext\" transform=\"translate(254.70649940056245,193.6585460941106)\" text-anchor=\"middle\" x=\"0\" y=\"0\" style=\"font-family: 'Open Sans', verdana, arial, sans-serif; font-size: 12px; fill: rgb(42, 63, 95); fill-opacity: 1; white-space: pre;\">0.809%</text></g><path class=\"textline\" stroke-width=\"1.5\" d=\"M282.23774940056245,240.33294086588137V188.9085460941106h-3.625\" fill=\"none\" style=\"stroke: rgb(42, 63, 95); stroke-opacity: 1;\"/></g><g class=\"slice\"><path class=\"surface\" d=\"M385,527.5l-121.92789915366093,-279.5685737130958a305,305 0 0 1 11.901882209441823,-4.894562027531265Z\" style=\"pointer-events: all; stroke-width: 3; fill: rgb(25, 211, 243); fill-opacity: 1; stroke: rgb(255, 255, 255); stroke-opacity: 1;\"/><g class=\"slicetext\"><text data-notex=\"1\" class=\"slicetext\" transform=\"translate(241.46597424594347,208.1585460941106)\" text-anchor=\"middle\" x=\"0\" y=\"0\" style=\"font-family: 'Open Sans', verdana, arial, sans-serif; font-size: 12px; fill: rgb(42, 63, 95); fill-opacity: 1; white-space: pre;\">0.672%</text></g><path class=\"textline\" stroke-width=\"1.5\" d=\"M268.99722424594347,245.42136554259542V203.4085460941106h-3.625\" fill=\"none\" style=\"stroke: rgb(42, 63, 95); stroke-opacity: 1;\"/></g><g class=\"slice\"><path class=\"surface\" d=\"M385,527.5l-133.1294201536201,-274.41129256931265a305,305 0 0 1 11.201520999959158,-5.157281143783166Z\" style=\"pointer-events: all; stroke-width: 3; fill: rgb(255, 102, 146); fill-opacity: 1; stroke: rgb(255, 255, 255); stroke-opacity: 1;\"/><g class=\"slicetext\"><text data-notex=\"1\" class=\"slicetext\" transform=\"translate(229.91402284238706,222.6585460941106)\" text-anchor=\"middle\" x=\"0\" y=\"0\" style=\"font-family: 'Open Sans', verdana, arial, sans-serif; font-size: 12px; fill: rgb(42, 63, 95); fill-opacity: 1; white-space: pre;\">0.644%</text></g><path class=\"textline\" stroke-width=\"1.5\" d=\"M257.44527284238706,250.4534487134934V217.9085460941106h-3.625\" fill=\"none\" style=\"stroke: rgb(42, 63, 95); stroke-opacity: 1;\"/></g><g class=\"slice\"><path class=\"surface\" d=\"M385,527.5l-143.71239072832475,-269.01997834947a305,305 0 0 1 10.58297057470466,-5.391314219842627Z\" style=\"pointer-events: all; stroke-width: 3; fill: rgb(182, 232, 128); fill-opacity: 1; stroke: rgb(255, 255, 255); stroke-opacity: 1;\"/><g class=\"slicetext\"><text data-notex=\"1\" class=\"slicetext\" transform=\"translate(222.83409896267133,237.1585460941106)\" text-anchor=\"middle\" x=\"0\" y=\"0\" style=\"font-family: 'Open Sans', verdana, arial, sans-serif; font-size: 12px; fill: rgb(42, 63, 95); fill-opacity: 1; white-space: pre;\">0.62%</text></g><path class=\"textline\" stroke-width=\"1.5\" d=\"M246.55284896267133,255.73284530751863V232.4085460941106h-3.625\" fill=\"none\" style=\"stroke: rgb(42, 63, 95); stroke-opacity: 1;\"/></g><g class=\"slice\"><path class=\"surface\" d=\"M385,527.5l-153.91091482578705,-263.318116158933a305,305 0 0 1 10.198524097462297,-5.701862190537042Z\" style=\"pointer-events: all; stroke-width: 3; fill: rgb(255, 151, 255); fill-opacity: 1; stroke: rgb(255, 255, 255); stroke-opacity: 1;\"/><g class=\"slicetext\"><text data-notex=\"1\" class=\"slicetext\" transform=\"translate(212.44229068373426,251.6585460941106)\" text-anchor=\"middle\" x=\"0\" y=\"0\" style=\"font-family: 'Open Sans', verdana, arial, sans-serif; font-size: 12px; fill: rgb(42, 63, 95); fill-opacity: 1; white-space: pre;\">0.61%</text></g><path class=\"textline\" stroke-width=\"1.5\" d=\"M236.16104068373426,261.2821114394245V246.9085460941106h-3.625\" fill=\"none\" style=\"stroke: rgb(42, 63, 95); stroke-opacity: 1;\"/></g><g class=\"slice\"><path class=\"surface\" d=\"M385,527.5l-162.35832072830908,-258.1952278611739a305,305 0 0 1 8.447405902522036,-5.1228882977590615Z\" style=\"pointer-events: all; stroke-width: 3; fill: rgb(254, 203, 82); fill-opacity: 1; stroke: rgb(255, 255, 255); stroke-opacity: 1;\"/><g class=\"slicetext\"><text data-notex=\"1\" class=\"slicetext\" transform=\"translate(199.3133886124678,266.1585460941106)\" text-anchor=\"middle\" x=\"0\" y=\"0\" style=\"font-family: 'Open Sans', verdana, arial, sans-serif; font-size: 12px; fill: rgb(42, 63, 95); fill-opacity: 1; white-space: pre;\">0.516%</text></g></g></g></g><g class=\"iciclelayer\"/><g class=\"treemaplayer\"/><g class=\"sunburstlayer\"/><g class=\"glimages\"/><defs id=\"topdefs-f2510e\"><g class=\"clips\"/><clipPath id=\"legendf2510e\"><rect width=\"86\" height=\"200\" x=\"0\" y=\"0\"/></clipPath></defs><g class=\"layer-above\"><g class=\"imagelayer\"/><g class=\"shapelayer\"/></g><g class=\"infolayer\"><g class=\"legend\" pointer-events=\"all\" transform=\"translate(702.2,141)\"><rect class=\"bg\" shape-rendering=\"crispEdges\" style=\"stroke: rgb(68, 68, 68); stroke-opacity: 1; fill: rgb(255, 255, 255); fill-opacity: 1; stroke-width: 0px;\" width=\"86\" height=\"200\" x=\"0\" y=\"0\"/><g class=\"scrollbox\" transform=\"\" clip-path=\"url(#legendf2510e)\"><g class=\"groups\"><g class=\"traces\" transform=\"translate(0,14.5)\" style=\"opacity: 1;\"><text class=\"legendtext\" text-anchor=\"start\" x=\"40\" y=\"4.680000000000001\" style=\"font-family: 'Open Sans', verdana, arial, sans-serif; font-size: 12px; fill: rgb(42, 63, 95); fill-opacity: 1; white-space: pre;\">EN</text><g class=\"layers\" style=\"opacity: 1;\"><g class=\"legendfill\"/><g class=\"legendlines\"/><g class=\"legendsymbols\"><g class=\"legendpoints\"><path class=\"legendpie\" d=\"M6,6H-6V-6H6Z\" transform=\"translate(20,0)\" style=\"stroke-width: 3; fill: rgb(99, 110, 250); fill-opacity: 1; stroke: rgb(255, 255, 255); stroke-opacity: 1;\"/></g></g></g><rect class=\"legendtoggle\" x=\"0\" y=\"-9.5\" width=\"80.296875\" height=\"19\" style=\"fill: rgb(0, 0, 0); fill-opacity: 0;\"/></g><g class=\"traces\" transform=\"translate(0,33.5)\" style=\"opacity: 1;\"><text class=\"legendtext\" text-anchor=\"start\" x=\"40\" y=\"4.680000000000001\" style=\"font-family: 'Open Sans', verdana, arial, sans-serif; font-size: 12px; fill: rgb(42, 63, 95); fill-opacity: 1; white-space: pre;\">Others</text><g class=\"layers\" style=\"opacity: 1;\"><g class=\"legendfill\"/><g class=\"legendlines\"/><g class=\"legendsymbols\"><g class=\"legendpoints\"><path class=\"legendpie\" d=\"M6,6H-6V-6H6Z\" transform=\"translate(20,0)\" style=\"stroke-width: 3; fill: rgb(239, 85, 59); fill-opacity: 1; stroke: rgb(255, 255, 255); stroke-opacity: 1;\"/></g></g></g><rect class=\"legendtoggle\" x=\"0\" y=\"-9.5\" width=\"80.296875\" height=\"19\" style=\"fill: rgb(0, 0, 0); fill-opacity: 0;\"/></g><g class=\"traces\" transform=\"translate(0,52.5)\" style=\"opacity: 1;\"><text class=\"legendtext\" text-anchor=\"start\" x=\"40\" y=\"4.680000000000001\" style=\"font-family: 'Open Sans', verdana, arial, sans-serif; font-size: 12px; fill: rgb(42, 63, 95); fill-opacity: 1; white-space: pre;\">PT</text><g class=\"layers\" style=\"opacity: 1;\"><g class=\"legendfill\"/><g class=\"legendlines\"/><g class=\"legendsymbols\"><g class=\"legendpoints\"><path class=\"legendpie\" d=\"M6,6H-6V-6H6Z\" transform=\"translate(20,0)\" style=\"stroke-width: 3; fill: rgb(0, 204, 150); fill-opacity: 1; stroke: rgb(255, 255, 255); stroke-opacity: 1;\"/></g></g></g><rect class=\"legendtoggle\" x=\"0\" y=\"-9.5\" width=\"80.296875\" height=\"19\" style=\"fill: rgb(0, 0, 0); fill-opacity: 0;\"/></g><g class=\"traces\" transform=\"translate(0,71.5)\" style=\"opacity: 1;\"><text class=\"legendtext\" text-anchor=\"start\" x=\"40\" y=\"4.680000000000001\" style=\"font-family: 'Open Sans', verdana, arial, sans-serif; font-size: 12px; fill: rgb(42, 63, 95); fill-opacity: 1; white-space: pre;\">RU</text><g class=\"layers\" style=\"opacity: 1;\"><g class=\"legendfill\"/><g class=\"legendlines\"/><g class=\"legendsymbols\"><g class=\"legendpoints\"><path class=\"legendpie\" d=\"M6,6H-6V-6H6Z\" transform=\"translate(20,0)\" style=\"stroke-width: 3; fill: rgb(171, 99, 250); fill-opacity: 1; stroke: rgb(255, 255, 255); stroke-opacity: 1;\"/></g></g></g><rect class=\"legendtoggle\" x=\"0\" y=\"-9.5\" width=\"80.296875\" height=\"19\" style=\"fill: rgb(0, 0, 0); fill-opacity: 0;\"/></g><g class=\"traces\" transform=\"translate(0,90.5)\" style=\"opacity: 1;\"><text class=\"legendtext\" text-anchor=\"start\" x=\"40\" y=\"4.680000000000001\" style=\"font-family: 'Open Sans', verdana, arial, sans-serif; font-size: 12px; fill: rgb(42, 63, 95); fill-opacity: 1; white-space: pre;\">TR</text><g class=\"layers\" style=\"opacity: 1;\"><g class=\"legendfill\"/><g class=\"legendlines\"/><g class=\"legendsymbols\"><g class=\"legendpoints\"><path class=\"legendpie\" d=\"M6,6H-6V-6H6Z\" transform=\"translate(20,0)\" style=\"stroke-width: 3; fill: rgb(255, 161, 90); fill-opacity: 1; stroke: rgb(255, 255, 255); stroke-opacity: 1;\"/></g></g></g><rect class=\"legendtoggle\" x=\"0\" y=\"-9.5\" width=\"80.296875\" height=\"19\" style=\"fill: rgb(0, 0, 0); fill-opacity: 0;\"/></g><g class=\"traces\" transform=\"translate(0,109.5)\" style=\"opacity: 1;\"><text class=\"legendtext\" text-anchor=\"start\" x=\"40\" y=\"4.680000000000001\" style=\"font-family: 'Open Sans', verdana, arial, sans-serif; font-size: 12px; fill: rgb(42, 63, 95); fill-opacity: 1; white-space: pre;\">JA</text><g class=\"layers\" style=\"opacity: 1;\"><g class=\"legendfill\"/><g class=\"legendlines\"/><g class=\"legendsymbols\"><g class=\"legendpoints\"><path class=\"legendpie\" d=\"M6,6H-6V-6H6Z\" transform=\"translate(20,0)\" style=\"stroke-width: 3; fill: rgb(25, 211, 243); fill-opacity: 1; stroke: rgb(255, 255, 255); stroke-opacity: 1;\"/></g></g></g><rect class=\"legendtoggle\" x=\"0\" y=\"-9.5\" width=\"80.296875\" height=\"19\" style=\"fill: rgb(0, 0, 0); fill-opacity: 0;\"/></g><g class=\"traces\" transform=\"translate(0,128.5)\" style=\"opacity: 1;\"><text class=\"legendtext\" text-anchor=\"start\" x=\"40\" y=\"4.680000000000001\" style=\"font-family: 'Open Sans', verdana, arial, sans-serif; font-size: 12px; fill: rgb(42, 63, 95); fill-opacity: 1; white-space: pre;\">ES</text><g class=\"layers\" style=\"opacity: 1;\"><g class=\"legendfill\"/><g class=\"legendlines\"/><g class=\"legendsymbols\"><g class=\"legendpoints\"><path class=\"legendpie\" d=\"M6,6H-6V-6H6Z\" transform=\"translate(20,0)\" style=\"stroke-width: 3; fill: rgb(255, 102, 146); fill-opacity: 1; stroke: rgb(255, 255, 255); stroke-opacity: 1;\"/></g></g></g><rect class=\"legendtoggle\" x=\"0\" y=\"-9.5\" width=\"80.296875\" height=\"19\" style=\"fill: rgb(0, 0, 0); fill-opacity: 0;\"/></g><g class=\"traces\" transform=\"translate(0,147.5)\" style=\"opacity: 1;\"><text class=\"legendtext\" text-anchor=\"start\" x=\"40\" y=\"4.680000000000001\" style=\"font-family: 'Open Sans', verdana, arial, sans-serif; font-size: 12px; fill: rgb(42, 63, 95); fill-opacity: 1; white-space: pre;\">KO</text><g class=\"layers\" style=\"opacity: 1;\"><g class=\"legendfill\"/><g class=\"legendlines\"/><g class=\"legendsymbols\"><g class=\"legendpoints\"><path class=\"legendpie\" d=\"M6,6H-6V-6H6Z\" transform=\"translate(20,0)\" style=\"stroke-width: 3; fill: rgb(182, 232, 128); fill-opacity: 1; stroke: rgb(255, 255, 255); stroke-opacity: 1;\"/></g></g></g><rect class=\"legendtoggle\" x=\"0\" y=\"-9.5\" width=\"80.296875\" height=\"19\" style=\"fill: rgb(0, 0, 0); fill-opacity: 0;\"/></g><g class=\"traces\" transform=\"translate(0,166.5)\" style=\"opacity: 1;\"><text class=\"legendtext\" text-anchor=\"start\" x=\"40\" y=\"4.680000000000001\" style=\"font-family: 'Open Sans', verdana, arial, sans-serif; font-size: 12px; fill: rgb(42, 63, 95); fill-opacity: 1; white-space: pre;\">IT</text><g class=\"layers\" style=\"opacity: 1;\"><g class=\"legendfill\"/><g class=\"legendlines\"/><g class=\"legendsymbols\"><g class=\"legendpoints\"><path class=\"legendpie\" d=\"M6,6H-6V-6H6Z\" transform=\"translate(20,0)\" style=\"stroke-width: 3; fill: rgb(255, 151, 255); fill-opacity: 1; stroke: rgb(255, 255, 255); stroke-opacity: 1;\"/></g></g></g><rect class=\"legendtoggle\" x=\"0\" y=\"-9.5\" width=\"80.296875\" height=\"19\" style=\"fill: rgb(0, 0, 0); fill-opacity: 0;\"/></g><g class=\"traces\" transform=\"translate(0,185.5)\" style=\"opacity: 1;\"><text class=\"legendtext\" text-anchor=\"start\" x=\"40\" y=\"4.680000000000001\" style=\"font-family: 'Open Sans', verdana, arial, sans-serif; font-size: 12px; fill: rgb(42, 63, 95); fill-opacity: 1; white-space: pre;\">FR</text><g class=\"layers\" style=\"opacity: 1;\"><g class=\"legendfill\"/><g class=\"legendlines\"/><g class=\"legendsymbols\"><g class=\"legendpoints\"><path class=\"legendpie\" d=\"M6,6H-6V-6H6Z\" transform=\"translate(20,0)\" style=\"stroke-width: 3; fill: rgb(254, 203, 82); fill-opacity: 1; stroke: rgb(255, 255, 255); stroke-opacity: 1;\"/></g></g></g><rect class=\"legendtoggle\" x=\"0\" y=\"-9.5\" width=\"80.296875\" height=\"19\" style=\"fill: rgb(0, 0, 0); fill-opacity: 0;\"/></g></g></g><rect class=\"scrollbar\" rx=\"20\" ry=\"3\" width=\"0\" height=\"0\" style=\"fill: rgb(128, 139, 164); fill-opacity: 1;\" x=\"0\" y=\"0\"/></g><g class=\"g-gtitle\"><text class=\"gtitle\" x=\"40\" y=\"70.5\" text-anchor=\"start\" dy=\"0em\" style=\"font-family: 'Open Sans', verdana, arial, sans-serif; font-size: 17px; fill: rgb(42, 63, 95); opacity: 1; font-weight: normal; white-space: pre;\">Markdown Language Ratios</text></g></g></svg>"
      ]
     },
     "metadata": {},
     "output_type": "display_data"
    }
   ],
   "source": [
    "top_n = 9\n",
    "\n",
    "language_counts = train_final['markdown_language'].value_counts()\n",
    "\n",
    "top_n_languages = language_counts[:top_n]\n",
    "other_languages = language_counts[top_n:]\n",
    "\n",
    "language_counts_grouped = pd.DataFrame(top_n_languages).reset_index()\n",
    "language_counts_grouped.columns = ['markdown_language', 'counts']\n",
    "language_counts_grouped['markdown_language'] = language_counts_grouped['markdown_language'].apply(lambda x: x.upper())\n",
    "language_counts_grouped.loc[top_n+1] = ['Others', sum(other_languages.values)]\n",
    "\n",
    "\n",
    "fig = px.pie(language_counts_grouped, \n",
    "             values='counts', \n",
    "             names='markdown_language',\n",
    "             width=800, \n",
    "             height=1000,\n",
    "             title='Markdown Language Ratios')\n",
    "\n",
    "fig.update_traces(textinfo='percent',\n",
    "                  marker=dict(line=dict(color='white', width=3)))\n",
    "\n",
    "fig.update_traces()\n",
    "\n",
    "fig.show('svg')"
   ]
  },
  {
   "cell_type": "code",
   "execution_count": null,
   "id": "06fef644",
   "metadata": {},
   "outputs": [],
   "source": [
    "line_counts_codes_list = []\n",
    "line_counts_markdowns_list = []\n",
    "\n",
    "for r in range(train_final.shape[0]): \n",
    "    codes_line_list = ''.join(train_final['codes'][r]).split('\\n')\n",
    "    codes_line_list = [val for val in codes_line_list if val != '']\n",
    "    line_counts_codes = len(codes_line_list)\n",
    "    \n",
    "    markdowns_line_list = ''.join(train_final['markdowns_cleaned'][r]).split('\\n')\n",
    "    markdowns_line_list = [val for val in markdowns_line_list if val != '']\n",
    "    line_counts_markdowns = len(markdowns_line_list)\n",
    "    \n",
    "    line_counts_codes_list.append(line_counts_codes)\n",
    "    line_counts_markdowns_list.append(line_counts_markdowns)\n",
    "    \n",
    "line_counts_codes_list = np.array(line_counts_codes_list)    \n",
    "line_counts_markdowns_list = np.array(line_counts_markdowns_list)    "
   ]
  },
  {
   "cell_type": "code",
   "execution_count": null,
   "id": "c9e06824",
   "metadata": {},
   "outputs": [],
   "source": [
    "train_final['codes_line_counts'] = line_counts_codes_list\n",
    "train_final['markdowns_line_counts'] = line_counts_markdowns_list"
   ]
  },
  {
   "cell_type": "code",
   "execution_count": null,
   "id": "accbde69",
   "metadata": {
    "scrolled": false
   },
   "outputs": [],
   "source": [
    "fig = go.Figure()\n",
    "fig.add_trace(go.Box(y=line_counts_codes_list, \n",
    "                     name = 'Number of Lines (Codes)',\n",
    "                     marker_color = 'indianred'))\n",
    "\n",
    "fig.add_trace(go.Box(y=line_counts_markdowns_list,\n",
    "                     name = 'Number of Lines (Markdowns)',\n",
    "                     marker_color = 'lightseagreen'))\n",
    "\n",
    "fig.update_layout(template = 'plotly_white',\n",
    "                  width=1000,\n",
    "                  height=600,\n",
    "                  title=\"Distribution of the Number of Lines\")\n",
    "    \n",
    "\n",
    "fig.show('svg')"
   ]
  },
  {
   "cell_type": "code",
   "execution_count": null,
   "id": "e6d8309c",
   "metadata": {},
   "outputs": [],
   "source": [
    "n = 1\n",
    "n_line_markdown_ratio = np.mean(line_counts_markdowns_list<=n)\n",
    "n_line_markdown_ratio = np.round(n_line_markdown_ratio, 2)\n",
    "\n",
    "print(\"The ratio of notebooks that have lower than or equal to {} line(s) in their markdowns: {}\".format(n, n_line_markdown_ratio))"
   ]
  },
  {
   "cell_type": "code",
   "execution_count": null,
   "id": "1bff2723",
   "metadata": {},
   "outputs": [],
   "source": [
    "x = list(range(1,26))\n",
    "y = [np.mean(line_counts_markdowns_list<=n) for n in x]\n",
    "\n",
    "fig = go.Figure([go.Bar(x=x, y=y)])\n",
    "\n",
    "fig.update_traces(marker_color='rgb(158,202,225)', \n",
    "                  marker_line_color='white',\n",
    "                  marker_line_width=0.50, opacity=1)\n",
    "\n",
    "fig.update_layout(template='plotly_white',\n",
    "                  width=1000,\n",
    "                  height=600,\n",
    "                  title=\"Cumulative Bar Chart\",\n",
    "                  xaxis_title=\"Number of Lines\",\n",
    "                  yaxis_title=\"Ratio of Notebooks\")\n",
    "\n",
    "fig.update_xaxes(showline=True, \n",
    "                 showgrid=True, \n",
    "                 gridwidth=1.5, \n",
    "                 linewidth=2, \n",
    "                 nticks = max(x)+1)\n",
    "\n",
    "fig.update_yaxes(showline=True, \n",
    "                 showgrid=True, \n",
    "                 gridwidth=1.5, \n",
    "                 linewidth=2, \n",
    "                 nticks=11,\n",
    "                 range = [0,1])\n",
    "\n",
    "fig.show('svg')"
   ]
  },
  {
   "cell_type": "code",
   "execution_count": null,
   "id": "575aec9a",
   "metadata": {},
   "outputs": [],
   "source": [
    "line_counts_codes_sorted = pd.Series(line_counts_codes_list).sort_values(ascending=False)\n",
    "long_codes_indices = line_counts_codes_sorted[line_counts_codes_sorted>100].index.tolist()\n",
    "\n",
    "line_counts_markdowns_sorted = pd.Series(line_counts_markdowns_list).sort_values(ascending=False)\n",
    "long_markdowns_indices = line_counts_markdowns_sorted[line_counts_markdowns_sorted>100].index.tolist()"
   ]
  },
  {
   "cell_type": "code",
   "execution_count": null,
   "id": "4525c034",
   "metadata": {
    "scrolled": false
   },
   "outputs": [],
   "source": [
    "long_markdown = train_final['markdowns_cleaned'][long_markdowns_indices[398]][:3]\n",
    "long_markdown_joined = '\\n'.join(long_markdown)\n",
    "\n",
    "print(long_markdown_joined)"
   ]
  },
  {
   "cell_type": "code",
   "execution_count": null,
   "id": "05e533d2",
   "metadata": {},
   "outputs": [],
   "source": [
    "def translate(texts):\n",
    "    translated_texts = [ts.google(val) for val in texts]\n",
    "    return translated_texts"
   ]
  },
  {
   "cell_type": "code",
   "execution_count": null,
   "id": "e6968a26",
   "metadata": {},
   "outputs": [],
   "source": [
    "# nonenglish_index = train_final['language']!='en'"
   ]
  },
  {
   "cell_type": "code",
   "execution_count": null,
   "id": "2e5f8db7",
   "metadata": {},
   "outputs": [],
   "source": [
    "# train_final['markdowns_translated'] = None"
   ]
  },
  {
   "cell_type": "code",
   "execution_count": null,
   "id": "dd10c7a2",
   "metadata": {},
   "outputs": [],
   "source": [
    "# train_final.loc[~nonenglish_index, 'markdowns_translated'] = train_final['markdowns_cleaned'][~nonenglish_index].values"
   ]
  },
  {
   "cell_type": "code",
   "execution_count": null,
   "id": "574755c9",
   "metadata": {},
   "outputs": [],
   "source": [
    "# from tqdm import tqdm\n",
    "# tqdm.pandas()\n",
    "# train_final.loc[nonenglish_index, 'markdowns_translated'] = train_final['markdowns_cleaned'][nonenglish_index].progress_apply(translate).values"
   ]
  },
  {
   "cell_type": "code",
   "execution_count": null,
   "id": "570a27b3",
   "metadata": {
    "scrolled": false
   },
   "outputs": [],
   "source": [
    "for val in range(len(markdowns)):\n",
    "    print(markdowns[val])\n",
    "    print()\n",
    "    print('---------')\n",
    "    print()\n",
    "    print(translated_markdowns[val])\n",
    "    print()\n",
    "    print('#########')\n",
    "    print()"
   ]
  },
  {
   "cell_type": "code",
   "execution_count": null,
   "id": "e13cd5fe",
   "metadata": {},
   "outputs": [],
   "source": [
    "# ANCESTRY (?)"
   ]
  }
 ],
 "metadata": {
  "kernelspec": {
   "display_name": "Python 3 (ipykernel)",
   "language": "python",
   "name": "python3"
  },
  "language_info": {
   "codemirror_mode": {
    "name": "ipython",
    "version": 3
   },
   "file_extension": ".py",
   "mimetype": "text/x-python",
   "name": "python",
   "nbconvert_exporter": "python",
   "pygments_lexer": "ipython3",
   "version": "3.9.7"
  }
 },
 "nbformat": 4,
 "nbformat_minor": 5
}
