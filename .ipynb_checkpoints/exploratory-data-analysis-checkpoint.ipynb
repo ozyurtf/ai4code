{
 "cells": [
  {
   "cell_type": "markdown",
   "id": "a56e6329",
   "metadata": {},
   "source": [
    "### Importing Libraries"
   ]
  },
  {
   "cell_type": "code",
   "execution_count": 23,
   "id": "f9728d86",
   "metadata": {},
   "outputs": [],
   "source": [
    "import pandas as pd\n",
    "from collections import Counter\n",
    "import ast\n",
    "import kaleido\n",
    "import plotly.express as px\n",
    "import plotly.graph_objects as go\n",
    "import numpy as np\n",
    "import re\n",
    "from io import StringIO\n",
    "from html.parser import HTMLParser\n",
    "import concurrent.futures"
   ]
  },
  {
   "cell_type": "markdown",
   "id": "adbbf383",
   "metadata": {},
   "source": [
    "### Importing Data"
   ]
  },
  {
   "cell_type": "code",
   "execution_count": 24,
   "id": "46590740",
   "metadata": {},
   "outputs": [],
   "source": [
    "train_final = pd.read_csv('data/train_final.csv')\n",
    "train_final['cell_type_shuffled'] = train_final['cell_type_shuffled'].apply(ast.literal_eval)\n",
    "train_final['code_markdown_shuffled'] = train_final['code_markdown_shuffled'].apply(ast.literal_eval)\n",
    "train_final['cell_order_shuffled'] = train_final['cell_order_shuffled'].apply(ast.literal_eval)\n",
    "train_final['cell_rank_shuffled'] = train_final['cell_rank_shuffled'].apply(ast.literal_eval)\n",
    "train_final['cell_order'] = train_final['cell_order'].apply(ast.literal_eval)\n",
    "\n",
    "test_final = pd.read_csv('data/test_final.csv')\n",
    "test_final['cell_type_shuffled'] = test_final['cell_type_shuffled'].apply(ast.literal_eval)\n",
    "test_final['code_markdown_shuffled'] = test_final['code_markdown_shuffled'].apply(ast.literal_eval)"
   ]
  },
  {
   "cell_type": "code",
   "execution_count": 25,
   "id": "8b56e16a",
   "metadata": {},
   "outputs": [],
   "source": [
    "train_final_exploded = train_final.explode(['cell_type_shuffled',\n",
    "                                            'code_markdown_shuffled',\n",
    "                                            'cell_order_shuffled', \n",
    "                                            'cell_rank_shuffled']).reset_index(drop=True)"
   ]
  },
  {
   "cell_type": "code",
   "execution_count": 51,
   "id": "67017674",
   "metadata": {},
   "outputs": [
    {
     "data": {
      "text/plain": [
       "['code', 'code', 'code', 'code', 'code', 'code', 'code', 'code', 'markdown']"
      ]
     },
     "execution_count": 51,
     "metadata": {},
     "output_type": "execute_result"
    }
   ],
   "source": [
    "train_final[train_final['id']=='0002115f48f982']['cell_type_shuffled'].values[0]"
   ]
  },
  {
   "cell_type": "code",
   "execution_count": 60,
   "id": "b0ef26f0",
   "metadata": {},
   "outputs": [
    {
     "data": {
      "text/plain": [
       "['import numpy as np # linear algebra\\nimport pandas as pd # data processing, CSV file I/O (e.g. pd.read_csv)\\nimport matplotlib.pyplot as plt\\nimport seaborn as sns\\n%matplotlib inline\\nimport os\\nprint(os.listdir(\"../input\"))\\n',\n",
       " \"df = pd.read_csv('../input/metadata_train.csv')\\ndf.info()\",\n",
       " 'df.head()',\n",
       " \"#let's check if targets are consistent within the same measurement id\\ntargets = df.groupby('id_measurement')[['target','id_measurement']].agg('mean')\\ntargets.head()\",\n",
       " 'sns.countplot(x=\\'target\\',data=targets)\\n# it should be only \"1\" and \"0\" but we have cases where target is not consitent ',\n",
       " \"mislabeled = targets.loc[(targets.target <1 ) & (targets.target > 0.3) ,'id_measurement']\\nprint(str(mislabeled.shape[0]) + ' measurments most likely mislabeled' )\\n\",\n",
       " '# qc it all',\n",
       " '\\ndf.loc[df.id_measurement.isin(mislabeled) ,:]',\n",
       " 'Hi there,\\n\\nIs it ok that the same measurement have different target labels between signals?\\nAccording to data description it should be the same (or not really?) . There are 38 cases of measurements with not consistent labels between signals.\\n\\nQuick and dirty code to show the problem below:']"
      ]
     },
     "execution_count": 60,
     "metadata": {},
     "output_type": "execute_result"
    }
   ],
   "source": [
    "train_final[train_final['id']=='0002115f48f982']['code_markdown_shuffled'].values[0]"
   ]
  },
  {
   "cell_type": "code",
   "execution_count": 62,
   "id": "c0b6932b",
   "metadata": {},
   "outputs": [
    {
     "data": {
      "text/plain": [
       "[1, 2, 3, 4, 5, 6, 7, 8, 0]"
      ]
     },
     "execution_count": 62,
     "metadata": {},
     "output_type": "execute_result"
    }
   ],
   "source": [
    "train_final[train_final['id']=='0002115f48f982']['cell_rank_shuffled'].values[0]"
   ]
  },
  {
   "cell_type": "code",
   "execution_count": 56,
   "id": "a5e07f3c",
   "metadata": {},
   "outputs": [
    {
     "data": {
      "text/plain": [
       "['9ec225f0',\n",
       " '18281c6c',\n",
       " 'e3b6b115',\n",
       " '4a044c54',\n",
       " '365fe576',\n",
       " 'a3188e54',\n",
       " 'b3f6e12d',\n",
       " 'ee7655ca',\n",
       " '84125b7a']"
      ]
     },
     "execution_count": 56,
     "metadata": {},
     "output_type": "execute_result"
    }
   ],
   "source": [
    "train_final[train_final['id']=='0002115f48f982']['cell_order'].values[0]"
   ]
  },
  {
   "cell_type": "code",
   "execution_count": 59,
   "id": "59525847",
   "metadata": {},
   "outputs": [
    {
     "data": {
      "text/plain": [
       "['18281c6c',\n",
       " 'e3b6b115',\n",
       " '4a044c54',\n",
       " '365fe576',\n",
       " 'a3188e54',\n",
       " 'b3f6e12d',\n",
       " 'ee7655ca',\n",
       " '84125b7a',\n",
       " '9ec225f0']"
      ]
     },
     "execution_count": 59,
     "metadata": {},
     "output_type": "execute_result"
    }
   ],
   "source": [
    "train_final[train_final['id']=='0002115f48f982']['cell_order_shuffled'].values[0]"
   ]
  },
  {
   "cell_type": "markdown",
   "id": "e9ff56cd",
   "metadata": {},
   "source": [
    "### Exploratory Data Analysis"
   ]
  },
  {
   "cell_type": "code",
   "execution_count": null,
   "id": "aba4c6c7",
   "metadata": {
    "scrolled": false
   },
   "outputs": [],
   "source": [
    "top_n = 9\n",
    "\n",
    "language_counts = train_final['markdown_language'].value_counts()\n",
    "\n",
    "top_n_languages = language_counts[:top_n]\n",
    "other_languages = language_counts[top_n:]\n",
    "\n",
    "language_counts_grouped = pd.DataFrame(top_n_languages).reset_index()\n",
    "language_counts_grouped.columns = ['markdown_language', 'counts']\n",
    "language_counts_grouped['markdown_language'] = language_counts_grouped['markdown_language'].apply(lambda x: x.upper())\n",
    "language_counts_grouped.loc[top_n+1] = ['Others', sum(other_languages.values)]\n",
    "\n",
    "\n",
    "fig = px.pie(language_counts_grouped, \n",
    "             values='counts', \n",
    "             names='markdown_language',\n",
    "             width=800, \n",
    "             height=1000,\n",
    "             title='Markdown Language Ratios')\n",
    "\n",
    "fig.update_traces(textinfo='percent',\n",
    "                  marker=dict(line=dict(color='white', width=3)))\n",
    "\n",
    "fig.update_traces()\n",
    "\n",
    "fig.show('svg')"
   ]
  },
  {
   "cell_type": "code",
   "execution_count": null,
   "id": "06fef644",
   "metadata": {},
   "outputs": [],
   "source": [
    "line_counts_codes_list = []\n",
    "line_counts_markdowns_list = []\n",
    "\n",
    "for r in range(train_final.shape[0]): \n",
    "    codes_line_list = ''.join(train_final['codes'][r]).split('\\n')\n",
    "    codes_line_list = [val for val in codes_line_list if val != '']\n",
    "    line_counts_codes = len(codes_line_list)\n",
    "    \n",
    "    markdowns_line_list = ''.join(train_final['markdowns_cleaned'][r]).split('\\n')\n",
    "    markdowns_line_list = [val for val in markdowns_line_list if val != '']\n",
    "    line_counts_markdowns = len(markdowns_line_list)\n",
    "    \n",
    "    line_counts_codes_list.append(line_counts_codes)\n",
    "    line_counts_markdowns_list.append(line_counts_markdowns)\n",
    "    \n",
    "line_counts_codes_list = np.array(line_counts_codes_list)    \n",
    "line_counts_markdowns_list = np.array(line_counts_markdowns_list)    "
   ]
  },
  {
   "cell_type": "code",
   "execution_count": null,
   "id": "c9e06824",
   "metadata": {},
   "outputs": [],
   "source": [
    "train_final['codes_line_counts'] = line_counts_codes_list\n",
    "train_final['markdowns_line_counts'] = line_counts_markdowns_list"
   ]
  },
  {
   "cell_type": "code",
   "execution_count": null,
   "id": "accbde69",
   "metadata": {
    "scrolled": false
   },
   "outputs": [],
   "source": [
    "fig = go.Figure()\n",
    "fig.add_trace(go.Box(y=line_counts_codes_list, \n",
    "                     name = 'Number of Lines (Codes)',\n",
    "                     marker_color = 'indianred'))\n",
    "\n",
    "fig.add_trace(go.Box(y=line_counts_markdowns_list,\n",
    "                     name = 'Number of Lines (Markdowns)',\n",
    "                     marker_color = 'lightseagreen'))\n",
    "\n",
    "fig.update_layout(template = 'plotly_white',\n",
    "                  width=1000,\n",
    "                  height=600,\n",
    "                  title=\"Distribution of the Number of Lines\")\n",
    "    \n",
    "\n",
    "fig.show('svg')"
   ]
  },
  {
   "cell_type": "code",
   "execution_count": null,
   "id": "e6d8309c",
   "metadata": {},
   "outputs": [],
   "source": [
    "n = 1\n",
    "n_line_markdown_ratio = np.mean(line_counts_markdowns_list<=n)\n",
    "n_line_markdown_ratio = np.round(n_line_markdown_ratio, 2)\n",
    "\n",
    "print(\"The ratio of notebooks that have lower than or equal to {} line(s) in their markdowns: {}\".format(n, n_line_markdown_ratio))"
   ]
  },
  {
   "cell_type": "code",
   "execution_count": null,
   "id": "1bff2723",
   "metadata": {},
   "outputs": [],
   "source": [
    "x = list(range(1,26))\n",
    "y = [np.mean(line_counts_markdowns_list<=n) for n in x]\n",
    "\n",
    "fig = go.Figure([go.Bar(x=x, y=y)])\n",
    "\n",
    "fig.update_traces(marker_color='rgb(158,202,225)', \n",
    "                  marker_line_color='white',\n",
    "                  marker_line_width=0.50, opacity=1)\n",
    "\n",
    "fig.update_layout(template='plotly_white',\n",
    "                  width=1000,\n",
    "                  height=600,\n",
    "                  title=\"Cumulative Bar Chart\",\n",
    "                  xaxis_title=\"Number of Lines\",\n",
    "                  yaxis_title=\"Ratio of Notebooks\")\n",
    "\n",
    "fig.update_xaxes(showline=True, \n",
    "                 showgrid=True, \n",
    "                 gridwidth=1.5, \n",
    "                 linewidth=2, \n",
    "                 nticks = max(x)+1)\n",
    "\n",
    "fig.update_yaxes(showline=True, \n",
    "                 showgrid=True, \n",
    "                 gridwidth=1.5, \n",
    "                 linewidth=2, \n",
    "                 nticks=11,\n",
    "                 range = [0,1])\n",
    "\n",
    "fig.show('svg')"
   ]
  },
  {
   "cell_type": "code",
   "execution_count": null,
   "id": "575aec9a",
   "metadata": {},
   "outputs": [],
   "source": [
    "line_counts_codes_sorted = pd.Series(line_counts_codes_list).sort_values(ascending=False)\n",
    "long_codes_indices = line_counts_codes_sorted[line_counts_codes_sorted>100].index.tolist()\n",
    "\n",
    "line_counts_markdowns_sorted = pd.Series(line_counts_markdowns_list).sort_values(ascending=False)\n",
    "long_markdowns_indices = line_counts_markdowns_sorted[line_counts_markdowns_sorted>100].index.tolist()"
   ]
  },
  {
   "cell_type": "code",
   "execution_count": null,
   "id": "4525c034",
   "metadata": {
    "scrolled": false
   },
   "outputs": [],
   "source": [
    "long_markdown = train_final['markdowns_cleaned'][long_markdowns_indices[398]][:3]\n",
    "long_markdown_joined = '\\n'.join(long_markdown)\n",
    "\n",
    "print(long_markdown_joined)"
   ]
  }
 ],
 "metadata": {
  "kernelspec": {
   "display_name": "Python 3 (ipykernel)",
   "language": "python",
   "name": "python3"
  },
  "language_info": {
   "codemirror_mode": {
    "name": "ipython",
    "version": 3
   },
   "file_extension": ".py",
   "mimetype": "text/x-python",
   "name": "python",
   "nbconvert_exporter": "python",
   "pygments_lexer": "ipython3",
   "version": "3.9.7"
  }
 },
 "nbformat": 4,
 "nbformat_minor": 5
}
