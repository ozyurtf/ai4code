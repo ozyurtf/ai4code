{
 "cells": [
  {
   "cell_type": "markdown",
   "id": "6ae4226a",
   "metadata": {},
   "source": [
    "### Installing Libraries"
   ]
  },
  {
   "cell_type": "code",
   "execution_count": 1,
   "id": "4ab772ba",
   "metadata": {},
   "outputs": [],
   "source": [
    "!pip install translators --upgrade --quiet"
   ]
  },
  {
   "cell_type": "markdown",
   "id": "a56e6329",
   "metadata": {},
   "source": [
    "### Importing Libraries"
   ]
  },
  {
   "cell_type": "code",
   "execution_count": 2,
   "id": "f9728d86",
   "metadata": {},
   "outputs": [
    {
     "name": "stderr",
     "output_type": "stream",
     "text": [
      "Using state Massachusetts server backend.\n"
     ]
    }
   ],
   "source": [
    "import pandas as pd\n",
    "from collections import Counter\n",
    "import ast\n",
    "import kaleido\n",
    "import plotly.express as px\n",
    "import plotly.graph_objects as go\n",
    "import numpy as np\n",
    "import re\n",
    "from io import StringIO\n",
    "from html.parser import HTMLParser\n",
    "import concurrent.futures\n",
    "from utils import translate\n",
    "from multiprocessing import Pool"
   ]
  },
  {
   "cell_type": "markdown",
   "id": "adbbf383",
   "metadata": {},
   "source": [
    "### Importing Data"
   ]
  },
  {
   "cell_type": "code",
   "execution_count": 3,
   "id": "46590740",
   "metadata": {},
   "outputs": [],
   "source": [
    "train_final = pd.read_csv('train_final.csv')\n",
    "train_final['cell_types_shuffled'] = train_final['cell_types_shuffled'].apply(ast.literal_eval)\n",
    "train_final['code_markdowns_shuffled'] = train_final['code_markdowns_shuffled'].apply(ast.literal_eval)\n",
    "\n",
    "test_final = pd.read_csv('test_final.csv')\n",
    "test_final['cell_types_shuffled'] = test_final['cell_types_shuffled'].apply(ast.literal_eval)\n",
    "test_final['code_markdowns_shuffled'] = test_final['code_markdowns_shuffled'].apply(ast.literal_eval)"
   ]
  },
  {
   "cell_type": "code",
   "execution_count": 38,
   "id": "b35893ea",
   "metadata": {},
   "outputs": [],
   "source": [
    "train_final_sample = train_final.sample(1000).reset_index(drop=True)"
   ]
  },
  {
   "cell_type": "code",
   "execution_count": 39,
   "id": "8b56e16a",
   "metadata": {},
   "outputs": [],
   "source": [
    "train_final_exploded = train_final_sample.explode(['cell_types_shuffled',\n",
    "                                            'code_markdowns_shuffled']).reset_index(drop=True)\n",
    "\n",
    "train_final_exploded['code_markdowns_shuffled_translated'] = train_final_exploded['code_markdowns_shuffled'].copy()\n",
    "\n",
    "nonenglish_markdowns = list(train_final_exploded.query('cell_types_shuffled == \"markdown\" & markdown_language != \"en\"')['code_markdowns_shuffled'])"
   ]
  },
  {
   "cell_type": "code",
   "execution_count": null,
   "id": "5946f138",
   "metadata": {},
   "outputs": [
    {
     "name": "stderr",
     "output_type": "stream",
     "text": [
      "Using state Massachusetts server backend.\n",
      "Using state Massachusetts server backend.\n",
      "Using state Massachusetts server backend.\n",
      "Using state Massachusetts server backend.\n",
      "Using state Massachusetts server backend.\n"
     ]
    }
   ],
   "source": [
    "%%time\n",
    "if __name__ == '__main__':\n",
    "    with Pool(5) as p:\n",
    "        translated_markdowns = p.map(translate, nonenglish_markdowns)"
   ]
  },
  {
   "cell_type": "code",
   "execution_count": null,
   "id": "fd07c310",
   "metadata": {},
   "outputs": [],
   "source": [
    "translated_markdowns"
   ]
  },
  {
   "cell_type": "code",
   "execution_count": null,
   "id": "93b1acea",
   "metadata": {},
   "outputs": [],
   "source": [
    "train_final_exploded.loc[train_final_exploded['markdown_language']!='en', 'code_markdowns_shuffled_translated'] = translated_markdowns"
   ]
  },
  {
   "cell_type": "code",
   "execution_count": null,
   "id": "34b450da",
   "metadata": {},
   "outputs": [],
   "source": [
    "train_final"
   ]
  },
  {
   "cell_type": "code",
   "execution_count": null,
   "id": "c5c919a5",
   "metadata": {},
   "outputs": [],
   "source": [
    "print(translate_chunks([val for val in nonenglish_markdowns if len(val) == 7547][0]))"
   ]
  },
  {
   "cell_type": "markdown",
   "id": "e9ff56cd",
   "metadata": {},
   "source": [
    "### Exploratory Data Analysis"
   ]
  },
  {
   "cell_type": "code",
   "execution_count": null,
   "id": "aba4c6c7",
   "metadata": {
    "scrolled": false
   },
   "outputs": [],
   "source": [
    "top_n = 9\n",
    "\n",
    "language_counts = train_final['markdown_language'].value_counts()\n",
    "\n",
    "top_n_languages = language_counts[:top_n]\n",
    "other_languages = language_counts[top_n:]\n",
    "\n",
    "language_counts_grouped = pd.DataFrame(top_n_languages).reset_index()\n",
    "language_counts_grouped.columns = ['markdown_language', 'counts']\n",
    "language_counts_grouped['markdown_language'] = language_counts_grouped['markdown_language'].apply(lambda x: x.upper())\n",
    "language_counts_grouped.loc[top_n+1] = ['Others', sum(other_languages.values)]\n",
    "\n",
    "\n",
    "fig = px.pie(language_counts_grouped, \n",
    "             values='counts', \n",
    "             names='markdown_language',\n",
    "             width=800, \n",
    "             height=1000,\n",
    "             title='Markdown Language Ratios')\n",
    "\n",
    "fig.update_traces(textinfo='percent',\n",
    "                  marker=dict(line=dict(color='white', width=3)))\n",
    "\n",
    "fig.update_traces()\n",
    "\n",
    "fig.show('svg')"
   ]
  },
  {
   "cell_type": "code",
   "execution_count": null,
   "id": "06fef644",
   "metadata": {},
   "outputs": [],
   "source": [
    "line_counts_codes_list = []\n",
    "line_counts_markdowns_list = []\n",
    "\n",
    "for r in range(train_final.shape[0]): \n",
    "    codes_line_list = ''.join(train_final['codes'][r]).split('\\n')\n",
    "    codes_line_list = [val for val in codes_line_list if val != '']\n",
    "    line_counts_codes = len(codes_line_list)\n",
    "    \n",
    "    markdowns_line_list = ''.join(train_final['markdowns_cleaned'][r]).split('\\n')\n",
    "    markdowns_line_list = [val for val in markdowns_line_list if val != '']\n",
    "    line_counts_markdowns = len(markdowns_line_list)\n",
    "    \n",
    "    line_counts_codes_list.append(line_counts_codes)\n",
    "    line_counts_markdowns_list.append(line_counts_markdowns)\n",
    "    \n",
    "line_counts_codes_list = np.array(line_counts_codes_list)    \n",
    "line_counts_markdowns_list = np.array(line_counts_markdowns_list)    "
   ]
  },
  {
   "cell_type": "code",
   "execution_count": null,
   "id": "c9e06824",
   "metadata": {},
   "outputs": [],
   "source": [
    "train_final['codes_line_counts'] = line_counts_codes_list\n",
    "train_final['markdowns_line_counts'] = line_counts_markdowns_list"
   ]
  },
  {
   "cell_type": "code",
   "execution_count": null,
   "id": "accbde69",
   "metadata": {
    "scrolled": false
   },
   "outputs": [],
   "source": [
    "fig = go.Figure()\n",
    "fig.add_trace(go.Box(y=line_counts_codes_list, \n",
    "                     name = 'Number of Lines (Codes)',\n",
    "                     marker_color = 'indianred'))\n",
    "\n",
    "fig.add_trace(go.Box(y=line_counts_markdowns_list,\n",
    "                     name = 'Number of Lines (Markdowns)',\n",
    "                     marker_color = 'lightseagreen'))\n",
    "\n",
    "fig.update_layout(template = 'plotly_white',\n",
    "                  width=1000,\n",
    "                  height=600,\n",
    "                  title=\"Distribution of the Number of Lines\")\n",
    "    \n",
    "\n",
    "fig.show('svg')"
   ]
  },
  {
   "cell_type": "code",
   "execution_count": null,
   "id": "e6d8309c",
   "metadata": {},
   "outputs": [],
   "source": [
    "n = 1\n",
    "n_line_markdown_ratio = np.mean(line_counts_markdowns_list<=n)\n",
    "n_line_markdown_ratio = np.round(n_line_markdown_ratio, 2)\n",
    "\n",
    "print(\"The ratio of notebooks that have lower than or equal to {} line(s) in their markdowns: {}\".format(n, n_line_markdown_ratio))"
   ]
  },
  {
   "cell_type": "code",
   "execution_count": null,
   "id": "1bff2723",
   "metadata": {},
   "outputs": [],
   "source": [
    "x = list(range(1,26))\n",
    "y = [np.mean(line_counts_markdowns_list<=n) for n in x]\n",
    "\n",
    "fig = go.Figure([go.Bar(x=x, y=y)])\n",
    "\n",
    "fig.update_traces(marker_color='rgb(158,202,225)', \n",
    "                  marker_line_color='white',\n",
    "                  marker_line_width=0.50, opacity=1)\n",
    "\n",
    "fig.update_layout(template='plotly_white',\n",
    "                  width=1000,\n",
    "                  height=600,\n",
    "                  title=\"Cumulative Bar Chart\",\n",
    "                  xaxis_title=\"Number of Lines\",\n",
    "                  yaxis_title=\"Ratio of Notebooks\")\n",
    "\n",
    "fig.update_xaxes(showline=True, \n",
    "                 showgrid=True, \n",
    "                 gridwidth=1.5, \n",
    "                 linewidth=2, \n",
    "                 nticks = max(x)+1)\n",
    "\n",
    "fig.update_yaxes(showline=True, \n",
    "                 showgrid=True, \n",
    "                 gridwidth=1.5, \n",
    "                 linewidth=2, \n",
    "                 nticks=11,\n",
    "                 range = [0,1])\n",
    "\n",
    "fig.show('svg')"
   ]
  },
  {
   "cell_type": "code",
   "execution_count": null,
   "id": "575aec9a",
   "metadata": {},
   "outputs": [],
   "source": [
    "line_counts_codes_sorted = pd.Series(line_counts_codes_list).sort_values(ascending=False)\n",
    "long_codes_indices = line_counts_codes_sorted[line_counts_codes_sorted>100].index.tolist()\n",
    "\n",
    "line_counts_markdowns_sorted = pd.Series(line_counts_markdowns_list).sort_values(ascending=False)\n",
    "long_markdowns_indices = line_counts_markdowns_sorted[line_counts_markdowns_sorted>100].index.tolist()"
   ]
  },
  {
   "cell_type": "code",
   "execution_count": null,
   "id": "4525c034",
   "metadata": {
    "scrolled": false
   },
   "outputs": [],
   "source": [
    "long_markdown = train_final['markdowns_cleaned'][long_markdowns_indices[398]][:3]\n",
    "long_markdown_joined = '\\n'.join(long_markdown)\n",
    "\n",
    "print(long_markdown_joined)"
   ]
  },
  {
   "cell_type": "code",
   "execution_count": null,
   "id": "05e533d2",
   "metadata": {},
   "outputs": [],
   "source": [
    "def translate(texts):\n",
    "    translated_texts = [ts.google(val) for val in texts]\n",
    "    return translated_texts"
   ]
  },
  {
   "cell_type": "code",
   "execution_count": null,
   "id": "e6968a26",
   "metadata": {},
   "outputs": [],
   "source": [
    "# nonenglish_index = train_final['language']!='en'"
   ]
  },
  {
   "cell_type": "code",
   "execution_count": null,
   "id": "2e5f8db7",
   "metadata": {},
   "outputs": [],
   "source": [
    "# train_final['markdowns_translated'] = None"
   ]
  },
  {
   "cell_type": "code",
   "execution_count": null,
   "id": "dd10c7a2",
   "metadata": {},
   "outputs": [],
   "source": [
    "# train_final.loc[~nonenglish_index, 'markdowns_translated'] = train_final['markdowns_cleaned'][~nonenglish_index].values"
   ]
  },
  {
   "cell_type": "code",
   "execution_count": null,
   "id": "574755c9",
   "metadata": {},
   "outputs": [],
   "source": [
    "# from tqdm import tqdm\n",
    "# tqdm.pandas()\n",
    "# train_final.loc[nonenglish_index, 'markdowns_translated'] = train_final['markdowns_cleaned'][nonenglish_index].progress_apply(translate).values"
   ]
  },
  {
   "cell_type": "code",
   "execution_count": null,
   "id": "570a27b3",
   "metadata": {
    "scrolled": false
   },
   "outputs": [],
   "source": [
    "for val in range(len(markdowns)):\n",
    "    print(markdowns[val])\n",
    "    print()\n",
    "    print('---------')\n",
    "    print()\n",
    "    print(translated_markdowns[val])\n",
    "    print()\n",
    "    print('#########')\n",
    "    print()"
   ]
  },
  {
   "cell_type": "code",
   "execution_count": null,
   "id": "e13cd5fe",
   "metadata": {},
   "outputs": [],
   "source": [
    "# ANCESTRY (?)"
   ]
  }
 ],
 "metadata": {
  "kernelspec": {
   "display_name": "Python 3 (ipykernel)",
   "language": "python",
   "name": "python3"
  },
  "language_info": {
   "codemirror_mode": {
    "name": "ipython",
    "version": 3
   },
   "file_extension": ".py",
   "mimetype": "text/x-python",
   "name": "python",
   "nbconvert_exporter": "python",
   "pygments_lexer": "ipython3",
   "version": "3.9.7"
  }
 },
 "nbformat": 4,
 "nbformat_minor": 5
}
